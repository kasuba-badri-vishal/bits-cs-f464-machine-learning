{
 "cells": [
  {
   "cell_type": "code",
   "execution_count": 20,
   "metadata": {},
   "outputs": [],
   "source": [
    "import pandas as pd\n",
    "import numpy as np"
   ]
  },
  {
   "cell_type": "code",
   "execution_count": 27,
   "metadata": {},
   "outputs": [
    {
     "name": "stdout",
     "output_type": "stream",
     "text": [
      "x1    -7.0421\n",
      "x2   -13.7731\n",
      "x3    -5.2861\n",
      "x4    -8.5482\n",
      "dtype: float64\n",
      "x1     6.8248\n",
      "x2    12.9516\n",
      "x3    17.9274\n",
      "x4     2.4495\n",
      "dtype: float64\n",
      "            x1        x2        x3        x4\n",
      "0     0.769004  0.839643  0.106783  0.736628\n",
      "1     0.835659  0.820982  0.121804  0.644326\n",
      "2     0.786629  0.416648  0.310608  0.786951\n",
      "3     0.757105  0.871699  0.054921  0.450440\n",
      "4     0.531578  0.348662  0.424662  0.687362\n",
      "...        ...       ...       ...       ...\n",
      "1367  0.537124  0.565855  0.165249  0.726398\n",
      "1368  0.407690  0.332868  0.506753  0.808350\n",
      "1369  0.237385  0.011768  0.985603  0.524755\n",
      "1370  0.250842  0.201701  0.761587  0.660675\n",
      "1371  0.324528  0.490747  0.343348  0.885949\n",
      "\n",
      "[1372 rows x 4 columns]\n"
     ]
    }
   ],
   "source": [
    "dataset = pd.read_csv('data_banknote_authentication.txt',names=['x1','x2','x3','x4','t'])\n",
    "dataset = dataset.drop(columns=['t'])\n",
    "min = np.min(dataset)\n",
    "print(min)\n",
    "max = np.max(dataset)\n",
    "print(max)\n",
    "dataset = (dataset-min)/(max-min)\n",
    "print(dataset)\n",
    "for i in dataset1['x1']:\n",
    "    dataset1['x1']-\n"
   ]
  },
  {
   "cell_type": "code",
   "execution_count": 3,
   "metadata": {},
   "outputs": [],
   "source": [
    "dataset = dataset.sample(frac=1)\n",
    "train_set = dataset[:int(0.8*len(dataset))]\n",
    "test_set = dataset[int(0.8*len(dataset)):]\n",
    "x_train = train_set.drop(columns=['t'])\n",
    "y_train = train_set['t']\n",
    "x_test = test_set.drop(columns=['t'])\n",
    "y_test = test_set['t']"
   ]
  },
  {
   "cell_type": "code",
   "execution_count": 4,
   "metadata": {},
   "outputs": [
    {
     "name": "stdout",
     "output_type": "stream",
     "text": [
      "[0.19907779 0.30344112 0.50981729 0.540591  ]\n"
     ]
    }
   ],
   "source": [
    "w = np.random.uniform(size=4)\n",
    "# w = np.random.normal(size=4)\n",
    "print(w)\n",
    "# w = np.random.random(size=4)"
   ]
  },
  {
   "cell_type": "code",
   "execution_count": 5,
   "metadata": {},
   "outputs": [],
   "source": [
    "z = (x_train.dot(w)) # z = wT*x"
   ]
  },
  {
   "cell_type": "code",
   "execution_count": 6,
   "metadata": {},
   "outputs": [
    {
     "name": "stdout",
     "output_type": "stream",
     "text": [
      "1.552927200769235\n"
     ]
    }
   ],
   "source": [
    "a = 1/(1+np.exp(-z))\n",
    "l1_reg = np.sum(np.abs(w))\n",
    "print(l1_reg)\n",
    "beta = 0.01"
   ]
  },
  {
   "cell_type": "code",
   "execution_count": 7,
   "metadata": {},
   "outputs": [
    {
     "name": "stdout",
     "output_type": "stream",
     "text": [
      "1673.0847775408497\n"
     ]
    }
   ],
   "source": [
    "# loss = -(y_train.dot(np.log(a))+(1-y_train).dot(np.log(1-a)))\n",
    "loss = (beta*l1_reg)-(y_train.dot(np.log(a))+(1-y_train).dot(np.log(1-a)))\n",
    "print(loss)\n",
    "alpha = 0.0001"
   ]
  },
  {
   "cell_type": "code",
   "execution_count": 8,
   "metadata": {},
   "outputs": [],
   "source": [
    "w = w -alpha*((a-y_train).dot(x_train))"
   ]
  },
  {
   "cell_type": "code",
   "execution_count": 9,
   "metadata": {},
   "outputs": [
    {
     "name": "stdout",
     "output_type": "stream",
     "text": [
      "1272.3418093852938\n"
     ]
    }
   ],
   "source": [
    "z = (x_train.dot(w)) # z = wT*x\n",
    "a = 1/(1+np.exp(-z))\n",
    "l1_reg = np.sum(np.abs(w))\n",
    "loss = (beta*l1_reg)-(y_train.dot(np.log(a))+(1-y_train).dot(np.log(1-a)))\n",
    "print(loss)\n",
    "w = w -alpha*((a-y_train).dot(x_train))"
   ]
  },
  {
   "cell_type": "code",
   "execution_count": 10,
   "metadata": {},
   "outputs": [],
   "source": [
    "import time\n",
    "count = 0\n",
    "loss1 = 0"
   ]
  },
  {
   "cell_type": "code",
   "execution_count": 11,
   "metadata": {},
   "outputs": [],
   "source": [
    "while(loss1!=loss):\n",
    "    count +=1\n",
    "    z = (x_train.dot(w)) # z = wT*x\n",
    "    a = 1/(1+np.exp(-z))\n",
    "    loss1 = loss\n",
    "    l1_reg = np.sum(np.abs(w))\n",
    "    loss = (beta*l1_reg)-(y_train.dot(np.log(a))+(1-y_train).dot(np.log(1-a)))\n",
    "    w1=w\n",
    "    w = w -alpha*((a-y_train).dot(x_train))"
   ]
  },
  {
   "cell_type": "code",
   "execution_count": 12,
   "metadata": {},
   "outputs": [
    {
     "name": "stdout",
     "output_type": "stream",
     "text": [
      "107.75765154062624\n"
     ]
    }
   ],
   "source": [
    "print(loss)"
   ]
  },
  {
   "cell_type": "code",
   "execution_count": 13,
   "metadata": {},
   "outputs": [
    {
     "name": "stdout",
     "output_type": "stream",
     "text": [
      "x1   -2.672216\n",
      "x2   -1.655622\n",
      "x3   -1.770578\n",
      "x4   -0.839629\n",
      "dtype: float64\n"
     ]
    }
   ],
   "source": [
    "print(w)"
   ]
  },
  {
   "cell_type": "code",
   "execution_count": 14,
   "metadata": {},
   "outputs": [
    {
     "name": "stdout",
     "output_type": "stream",
     "text": [
      "[0 0 0 1 1 0 0 0 0 0 1 1 0 1 0 0 0 1 1 0 1 1 1 0 1 0 0 0 0 1 0 0 1 0 0 0 1\n",
      " 0 1 1 0 1 1 1 0 0 0 0 0 0 0 0 0 0 1 0 1 0 0 0 1 1 1 1 1 0 1 0 0 0 0 0 0 0\n",
      " 1 0 0 0 0 0 1 0 1 1 1 1 0 1 0 1 0 1 1 1 1 0 1 0 1 1 1 1 1 1 1 0 1 1 1 0 0\n",
      " 0 1 0 0 1 1 1 0 1 0 0 1 0 0 0 0 0 0 1 0 0 0 0 0 0 1 1 0 0 0 1 0 1 0 1 1 0\n",
      " 1 0 0 0 0 0 1 1 1 1 0 0 1 1 0 1 0 0 0 0 0 1 0 0 1 0 0 0 1 1 0 0 0 1 0 0 0\n",
      " 1 1 1 1 0 0 0 1 0 0 0 0 1 1 1 0 0 1 1 1 0 1 0 1 0 1 1 1 0 0 1 1 1 1 1 0 1\n",
      " 0 0 1 1 0 0 1 0 1 0 0 0 1 1 0 0 1 1 1 1 1 1 0 1 1 1 0 0 1 0 0 1 0 0 0 0 0\n",
      " 1 0 0 0 1 1 1 0 0 0 0 1 1 1 1 0]\n",
      "[0 0 0 1 1 0 1 0 0 0 1 1 0 1 0 0 0 1 1 0 1 1 1 0 1 0 0 0 1 1 0 0 1 0 0 0 1\n",
      " 0 1 1 0 1 1 1 0 0 0 0 0 0 0 0 1 0 1 0 1 0 0 0 1 1 1 1 1 0 1 0 0 0 0 0 0 1\n",
      " 1 0 0 0 0 1 1 0 1 1 1 1 0 1 0 1 0 1 1 1 1 0 1 0 1 1 1 1 1 1 1 0 1 1 1 0 0\n",
      " 0 1 0 0 1 1 1 0 1 0 0 1 0 0 0 0 1 0 1 0 0 0 0 0 0 1 1 0 0 0 1 0 1 0 1 1 0\n",
      " 1 0 0 0 0 0 1 1 1 1 0 0 1 1 0 1 0 0 0 0 0 1 0 0 1 0 0 0 1 1 0 0 0 1 0 0 0\n",
      " 1 1 1 1 0 0 0 1 0 0 0 1 1 1 1 0 0 1 1 1 0 1 0 1 0 1 1 1 0 0 1 1 1 1 1 0 1\n",
      " 0 0 1 1 0 0 1 0 1 0 0 0 1 1 0 0 1 1 1 1 1 1 0 1 1 1 0 0 1 0 0 1 0 0 1 0 0\n",
      " 1 0 0 1 1 1 1 0 0 0 0 1 1 1 1 0]\n",
      "0.9672727272727273\n",
      "266\n",
      "275\n"
     ]
    }
   ],
   "source": [
    "z = (x_test.dot(w))\n",
    "a = 1/(1+np.exp(-z))\n",
    "b = np.where(a>0.5,1,0)\n",
    "print(b)\n",
    "y_test = np.array(y_test)\n",
    "print(y_test)\n",
    "print(np.sum(b==y_test)/(y_test.size))\n",
    "y_pred = b\n",
    "print(np.sum(y_pred==y_test))\n",
    "print(y_test.size)"
   ]
  },
  {
   "cell_type": "code",
   "execution_count": 19,
   "metadata": {},
   "outputs": [
    {
     "name": "stdout",
     "output_type": "stream",
     "text": [
      "123 143 0 9\n",
      "1.0 0.9318181818181818 0.9647058823529412\n",
      "0.9407894736842105 1.0 0.9694915254237287\n"
     ]
    }
   ],
   "source": [
    "true_positive = np.sum(np.logical_and((y_pred==y_test),(y_pred==1)))\n",
    "true_negative = np.sum(np.logical_and((y_pred==y_test),(y_pred==0)))\n",
    "false_positive = np.sum(np.logical_and((y_pred!=y_test),(y_pred==1)))\n",
    "false_negative = np.sum(np.logical_and((y_pred!=y_test),(y_pred==0)))\n",
    "print(true_positive,true_negative,false_positive,false_negative)\n",
    "precision_1 = true_positive/(true_positive+false_positive)\n",
    "precision_0 = true_negative/(true_negative+false_negative)\n",
    "recall_1 = true_positive/(true_positive+false_negative)\n",
    "recall_0 = true_negative/(true_negative+false_positive)\n",
    "f1_score_1 = 2*(precision_1*recall_1)/(precision_1+recall_1)\n",
    "print(precision_1,recall_1,f1_score_1)\n",
    "f1_score_0 = 2*(precision_0*recall_0)/(precision_0+recall_0)\n",
    "print(precision_0,recall_0,f1_score_0)"
   ]
  },
  {
   "cell_type": "code",
   "execution_count": 18,
   "metadata": {},
   "outputs": [
    {
     "name": "stdout",
     "output_type": "stream",
     "text": [
      "96.72727272727273\n"
     ]
    }
   ],
   "source": [
    "print((266/275)*100)"
   ]
  },
  {
   "cell_type": "code",
   "execution_count": 31,
   "metadata": {},
   "outputs": [
    {
     "name": "stdout",
     "output_type": "stream",
     "text": [
      "[       1     1000     1999 ... 99997903 99998902 99999901]\n"
     ]
    }
   ],
   "source": [
    "arr =np.arange(1,100000000,999)\n",
    "print(arr)"
   ]
  },
  {
   "cell_type": "code",
   "execution_count": null,
   "metadata": {},
   "outputs": [],
   "source": []
  }
 ],
 "metadata": {
  "kernelspec": {
   "display_name": "Python 3",
   "language": "python",
   "name": "python3"
  },
  "language_info": {
   "codemirror_mode": {
    "name": "ipython",
    "version": 3
   },
   "file_extension": ".py",
   "mimetype": "text/x-python",
   "name": "python",
   "nbconvert_exporter": "python",
   "pygments_lexer": "ipython3",
   "version": "3.7.6"
  }
 },
 "nbformat": 4,
 "nbformat_minor": 4
}
