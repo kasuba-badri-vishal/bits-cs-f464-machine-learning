{
 "cells": [
  {
   "cell_type": "code",
   "execution_count": 138,
   "metadata": {},
   "outputs": [],
   "source": [
    "import pandas as pd\n",
    "import numpy as np"
   ]
  },
  {
   "cell_type": "code",
   "execution_count": 139,
   "metadata": {},
   "outputs": [],
   "source": [
    "dataset = pd.read_csv('data_banknote_authentication.txt',names=['x1','x2','x3','x4','t'])"
   ]
  },
  {
   "cell_type": "code",
   "execution_count": 161,
   "metadata": {},
   "outputs": [],
   "source": [
    "dataset = dataset.sample(frac=1)\n",
    "train_set = dataset[:int(0.8*len(dataset))]\n",
    "test_set = dataset[int(0.8*len(dataset)):]\n",
    "x_train = train_set.drop(columns=['t'])\n",
    "y_train = train_set['t']\n",
    "x_test = test_set.drop(columns=['t'])\n",
    "y_test = test_set['t']"
   ]
  },
  {
   "cell_type": "code",
   "execution_count": 162,
   "metadata": {},
   "outputs": [],
   "source": [
    "w = np.random.uniform(size=4)\n",
    "# w = np.random.normal(size=4)\n",
    "# w = np.random.random(size=4)"
   ]
  },
  {
   "cell_type": "code",
   "execution_count": 163,
   "metadata": {},
   "outputs": [],
   "source": [
    "z = (x_train.dot(w)) # z = wT*x"
   ]
  },
  {
   "cell_type": "code",
   "execution_count": 164,
   "metadata": {},
   "outputs": [
    {
     "name": "stdout",
     "output_type": "stream",
     "text": [
      "2.060599029964446\n"
     ]
    }
   ],
   "source": [
    "a = 1/(1+np.exp(-z))\n",
    "l1_reg = np.sum(np.abs(w))\n",
    "print(l1_reg)\n",
    "beta = 0.01"
   ]
  },
  {
   "cell_type": "code",
   "execution_count": 165,
   "metadata": {},
   "outputs": [
    {
     "name": "stdout",
     "output_type": "stream",
     "text": [
      "3256.2790594433372\n"
     ]
    }
   ],
   "source": [
    "# loss = -(y_train.dot(np.log(a))+(1-y_train).dot(np.log(1-a)))\n",
    "loss = (beta*l1_reg)-(y_train.dot(np.log(a))+(1-y_train).dot(np.log(1-a)))\n",
    "print(loss)\n",
    "alpha = 0.0001"
   ]
  },
  {
   "cell_type": "code",
   "execution_count": 166,
   "metadata": {},
   "outputs": [
    {
     "name": "stdout",
     "output_type": "stream",
     "text": [
      "x1    0.151574\n",
      "x2   -0.019837\n",
      "x3    0.302861\n",
      "x4    0.132117\n",
      "dtype: float64\n"
     ]
    }
   ],
   "source": [
    "w = w -alpha*((a-y_train).dot(x_train))\n",
    "print(dw)"
   ]
  },
  {
   "cell_type": "code",
   "execution_count": 167,
   "metadata": {},
   "outputs": [
    {
     "name": "stdout",
     "output_type": "stream",
     "text": [
      "1874.8233304076136\n"
     ]
    }
   ],
   "source": [
    "z = (x_train.dot(w)) # z = wT*x\n",
    "a = 1/(1+np.exp(-z))\n",
    "l1_reg = np.sum(np.abs(w))\n",
    "loss = (beta*l1_reg)-(y_train.dot(np.log(a))+(1-y_train).dot(np.log(1-a)))\n",
    "print(loss)\n",
    "w = w -alpha*((a-y_train).dot(x_train))"
   ]
  },
  {
   "cell_type": "code",
   "execution_count": 168,
   "metadata": {},
   "outputs": [],
   "source": [
    "import time\n",
    "count = 0\n",
    "loss1 = 0"
   ]
  },
  {
   "cell_type": "code",
   "execution_count": 169,
   "metadata": {},
   "outputs": [],
   "source": [
    "while(loss1!=loss):\n",
    "    count +=1\n",
    "    z = (x_train.dot(w)) # z = wT*x\n",
    "    a = 1/(1+np.exp(-z))\n",
    "    loss1 = loss\n",
    "    l1_reg = np.sum(np.abs(w))\n",
    "    loss = (beta*l1_reg)-(y_train.dot(np.log(a))+(1-y_train).dot(np.log(1-a)))\n",
    "    w1=w\n",
    "    w = w -alpha*((a-y_train).dot(x_train))"
   ]
  },
  {
   "cell_type": "code",
   "execution_count": 170,
   "metadata": {},
   "outputs": [
    {
     "name": "stdout",
     "output_type": "stream",
     "text": [
      "105.62742509879419\n"
     ]
    }
   ],
   "source": [
    "print(loss)"
   ]
  },
  {
   "cell_type": "code",
   "execution_count": 171,
   "metadata": {},
   "outputs": [
    {
     "name": "stdout",
     "output_type": "stream",
     "text": [
      "x1   -2.750514\n",
      "x2   -1.655711\n",
      "x3   -1.768172\n",
      "x4   -0.747635\n",
      "dtype: float64\n"
     ]
    }
   ],
   "source": [
    "print(w)"
   ]
  },
  {
   "cell_type": "code",
   "execution_count": 172,
   "metadata": {},
   "outputs": [
    {
     "name": "stdout",
     "output_type": "stream",
     "text": [
      "[1 0 0 0 1 0 0 0 1 0 1 1 0 1 1 0 1 0 0 0 1 0 1 0 1 0 0 1 0 1 1 1 0 0 1 1 0\n",
      " 1 1 1 0 0 1 0 0 0 1 0 0 0 0 0 0 0 1 0 1 1 1 0 0 0 1 1 0 0 0 1 1 1 0 1 1 0\n",
      " 0 1 1 1 1 1 0 0 1 1 0 0 1 1 0 1 0 0 1 1 0 1 1 0 1 1 0 0 0 0 0 1 1 0 1 0 0\n",
      " 1 0 0 0 0 1 1 0 0 1 0 1 0 0 1 0 0 0 0 0 0 1 0 1 1 1 0 0 1 0 0 1 1 0 1 0 1\n",
      " 0 0 0 0 0 1 0 0 1 0 0 1 0 0 0 0 1 1 1 1 0 1 1 0 1 0 0 0 1 1 0 1 1 1 0 1 0\n",
      " 1 0 1 1 0 0 1 0 1 0 0 0 1 0 0 1 0 0 0 0 0 1 0 0 0 1 0 0 1 0 1 1 0 1 0 1 0\n",
      " 0 1 1 1 0 0 0 0 0 1 0 0 0 1 1 0 0 1 0 0 0 1 0 0 1 1 0 0 0 0 0 0 0 0 0 0 0\n",
      " 1 1 0 0 1 0 0 0 0 1 0 0 1 0 0 0]\n",
      "[1 0 1 0 1 0 0 0 1 0 1 1 0 1 1 0 1 0 0 0 1 0 1 1 1 0 0 1 0 1 1 1 0 0 1 1 1\n",
      " 1 1 1 0 0 1 0 0 0 1 0 0 0 0 0 0 0 1 0 1 1 1 0 0 0 1 1 0 0 0 1 1 1 0 1 1 0\n",
      " 0 1 1 1 1 1 0 0 1 1 0 0 1 1 0 1 0 0 1 1 0 1 1 0 1 1 0 0 0 0 1 1 1 1 1 0 0\n",
      " 1 0 0 0 0 1 1 1 1 1 0 1 0 0 1 0 1 0 0 0 0 1 0 1 1 1 0 0 1 0 0 1 1 0 1 0 1\n",
      " 0 0 0 0 0 1 0 0 1 0 0 1 0 0 0 0 1 1 1 1 0 1 1 1 1 0 0 0 1 1 0 1 1 1 0 1 0\n",
      " 1 0 1 1 0 0 1 0 1 0 0 0 1 0 0 1 0 1 0 0 0 1 1 0 0 1 0 0 1 0 1 1 0 1 0 1 0\n",
      " 0 1 1 1 0 0 0 0 0 1 0 0 0 1 1 0 0 1 0 0 0 1 0 0 1 1 0 0 0 0 0 0 0 0 0 0 0\n",
      " 1 1 0 0 1 0 0 0 0 1 1 0 1 0 0 0]\n",
      "0.9563636363636364\n"
     ]
    }
   ],
   "source": [
    "z = (x_test.dot(w))\n",
    "a = 1/(1+np.exp(-z))\n",
    "b = np.where(a>0.5,1,0)\n",
    "print(b)\n",
    "y_test = np.array(y_test)\n",
    "print(y_test)\n",
    "print(np.sum(b==y_test)/(y_test.size))"
   ]
  },
  {
   "cell_type": "code",
   "execution_count": null,
   "metadata": {},
   "outputs": [],
   "source": []
  }
 ],
 "metadata": {
  "kernelspec": {
   "display_name": "Python 3.7.6 64-bit ('base': conda)",
   "language": "python",
   "name": "python37664bitbasecondabb6175eb7a0d4688892d363a49a69da0"
  },
  "language_info": {
   "codemirror_mode": {
    "name": "ipython",
    "version": 3
   },
   "file_extension": ".py",
   "mimetype": "text/x-python",
   "name": "python",
   "nbconvert_exporter": "python",
   "pygments_lexer": "ipython3",
   "version": "3.7.6"
  }
 },
 "nbformat": 4,
 "nbformat_minor": 4
}
