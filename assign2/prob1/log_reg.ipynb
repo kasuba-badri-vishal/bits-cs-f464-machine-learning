{
 "cells": [
  {
   "cell_type": "code",
   "execution_count": 1,
   "metadata": {},
   "outputs": [],
   "source": [
    "import pandas as pd\n",
    "import numpy as np"
   ]
  },
  {
   "cell_type": "code",
   "execution_count": 2,
   "metadata": {},
   "outputs": [],
   "source": [
    "dataset = pd.read_csv('data_banknote_authentication.txt',names=['x1','x2','x3','x4','t'])"
   ]
  },
  {
   "cell_type": "code",
   "execution_count": 3,
   "metadata": {},
   "outputs": [],
   "source": [
    "dataset = dataset.sample(frac=1)\n",
    "train_set = dataset[:int(0.8*len(dataset))]\n",
    "test_set = dataset[int(0.8*len(dataset)):]\n",
    "x_train = train_set.drop(columns=['t'])\n",
    "y_train = train_set['t']\n",
    "x_test = test_set.drop(columns=['t'])\n",
    "y_test = test_set['t']"
   ]
  },
  {
   "cell_type": "code",
   "execution_count": 4,
   "metadata": {},
   "outputs": [
    {
     "output_type": "stream",
     "name": "stdout",
     "text": "[0.75902176 0.75008349 0.78941211 0.76009659]\n"
    }
   ],
   "source": [
    "w = np.random.uniform(size=4)\n",
    "# w = np.random.normal(size=4)\n",
    "print(w)\n",
    "# w = np.random.random(size=4)"
   ]
  },
  {
   "cell_type": "code",
   "execution_count": 5,
   "metadata": {},
   "outputs": [],
   "source": [
    "z = (x_train.dot(w)) # z = wT*x"
   ]
  },
  {
   "cell_type": "code",
   "execution_count": 6,
   "metadata": {},
   "outputs": [
    {
     "output_type": "stream",
     "name": "stdout",
     "text": "3.058613949548487\n"
    }
   ],
   "source": [
    "a = 1/(1+np.exp(-z))\n",
    "l1_reg = np.sum(np.abs(w))\n",
    "print(l1_reg)\n",
    "beta = 0.01"
   ]
  },
  {
   "cell_type": "code",
   "execution_count": 7,
   "metadata": {},
   "outputs": [
    {
     "output_type": "stream",
     "name": "stdout",
     "text": "3779.16599656953\n"
    }
   ],
   "source": [
    "# loss = -(y_train.dot(np.log(a))+(1-y_train).dot(np.log(1-a)))\n",
    "loss = (beta*l1_reg)-(y_train.dot(np.log(a))+(1-y_train).dot(np.log(1-a)))\n",
    "print(loss)\n",
    "alpha = 0.0001"
   ]
  },
  {
   "cell_type": "code",
   "execution_count": 10,
   "metadata": {},
   "outputs": [],
   "source": [
    "w = w -alpha*((a-y_train).dot(x_train))"
   ]
  },
  {
   "cell_type": "code",
   "execution_count": 11,
   "metadata": {},
   "outputs": [
    {
     "output_type": "stream",
     "name": "stdout",
     "text": "1794.8306245567114\n"
    }
   ],
   "source": [
    "z = (x_train.dot(w)) # z = wT*x\n",
    "a = 1/(1+np.exp(-z))\n",
    "l1_reg = np.sum(np.abs(w))\n",
    "loss = (beta*l1_reg)-(y_train.dot(np.log(a))+(1-y_train).dot(np.log(1-a)))\n",
    "print(loss)\n",
    "w = w -alpha*((a-y_train).dot(x_train))"
   ]
  },
  {
   "cell_type": "code",
   "execution_count": 12,
   "metadata": {},
   "outputs": [],
   "source": [
    "import time\n",
    "count = 0\n",
    "loss1 = 0"
   ]
  },
  {
   "cell_type": "code",
   "execution_count": 13,
   "metadata": {},
   "outputs": [],
   "source": [
    "while(loss1!=loss):\n",
    "    count +=1\n",
    "    z = (x_train.dot(w)) # z = wT*x\n",
    "    a = 1/(1+np.exp(-z))\n",
    "    loss1 = loss\n",
    "    l1_reg = np.sum(np.abs(w))\n",
    "    loss = (beta*l1_reg)-(y_train.dot(np.log(a))+(1-y_train).dot(np.log(1-a)))\n",
    "    w1=w\n",
    "    w = w -alpha*((a-y_train).dot(x_train))"
   ]
  },
  {
   "cell_type": "code",
   "execution_count": 14,
   "metadata": {},
   "outputs": [
    {
     "output_type": "stream",
     "name": "stdout",
     "text": "103.0067260530811\n"
    }
   ],
   "source": [
    "print(loss)"
   ]
  },
  {
   "cell_type": "code",
   "execution_count": 15,
   "metadata": {},
   "outputs": [
    {
     "output_type": "stream",
     "name": "stdout",
     "text": "x1   -2.722315\nx2   -1.682917\nx3   -1.795405\nx4   -0.864825\ndtype: float64\n"
    }
   ],
   "source": [
    "print(w)"
   ]
  },
  {
   "cell_type": "code",
   "execution_count": 23,
   "metadata": {},
   "outputs": [
    {
     "output_type": "stream",
     "name": "stdout",
     "text": "[0 1 1 0 0 0 1 1 1 1 1 0 0 0 0 0 1 1 1 0 1 1 0 0 0 1 1 1 1 0 0 1 1 1 0 0 0\n 1 1 0 1 0 0 0 1 1 0 0 0 1 0 0 1 1 1 1 0 0 0 0 0 0 0 1 0 1 1 0 1 0 1 1 0 0\n 0 0 0 0 1 0 1 1 0 0 1 0 0 1 0 0 1 0 0 1 0 1 0 1 1 1 0 1 0 0 1 0 1 1 0 0 0\n 1 0 0 0 0 1 1 0 1 0 1 1 1 1 1 0 1 0 0 1 0 0 0 0 1 0 0 0 0 0 0 0 1 0 1 0 0\n 0 1 0 0 1 0 1 1 0 1 1 1 0 0 0 0 0 1 0 1 1 1 0 1 0 1 0 0 1 0 0 1 0 0 0 1 0\n 0 0 1 0 1 1 1 0 0 0 0 0 1 1 1 0 1 1 0 0 0 0 0 0 0 0 1 0 0 0 0 1 1 1 0 0 1\n 1 0 0 0 0 0 0 0 1 1 1 0 1 0 0 0 1 1 0 1 0 1 0 0 0 1 0 0 0 1 1 1 0 0 0 1 0\n 1 1 0 0 0 0 0 1 0 0 0 0 1 1 1 1]\n[0 1 1 0 0 0 1 1 1 1 1 0 0 0 0 0 1 1 1 0 1 1 0 0 0 1 1 1 1 0 0 1 1 1 0 0 0\n 1 1 1 1 0 1 0 1 1 0 0 0 1 0 1 1 1 1 1 0 0 0 0 0 0 0 1 0 1 1 0 1 0 1 1 0 0\n 0 0 0 0 1 1 1 1 0 0 1 0 0 1 0 0 1 0 0 1 0 1 1 1 1 1 0 1 0 0 1 0 1 1 0 0 0\n 1 0 0 1 0 1 1 0 1 0 1 1 1 1 1 1 1 0 0 1 0 0 0 0 1 0 0 0 0 0 0 0 1 0 1 0 0\n 1 1 0 0 1 0 1 1 0 1 1 1 0 0 0 0 0 1 0 1 1 1 1 1 0 1 0 0 1 0 0 1 0 0 0 1 0\n 0 0 1 0 1 1 1 0 0 0 0 0 1 1 1 0 1 1 0 0 0 0 0 0 1 0 1 0 0 0 0 1 1 1 0 0 1\n 1 0 0 0 0 0 0 0 1 1 1 0 1 0 0 0 1 1 0 1 0 1 0 0 1 1 0 0 0 1 1 1 0 0 0 1 0\n 1 1 0 0 0 0 0 1 0 0 0 0 1 1 1 1]\n0.96\n264\n275\n"
    }
   ],
   "source": [
    "z = (x_test.dot(w))\n",
    "a = 1/(1+np.exp(-z))\n",
    "b = np.where(a>0.5,1,0)\n",
    "print(b)\n",
    "y_test = np.array(y_test)\n",
    "print(y_test)\n",
    "print(np.sum(b==y_test)/(y_test.size))\n",
    "y_pred = b\n",
    "print(np.sum(y_pred==y_test))\n",
    "print(y_test.size)"
   ]
  },
  {
   "cell_type": "code",
   "execution_count": 50,
   "metadata": {},
   "outputs": [
    {
     "output_type": "stream",
     "name": "stdout",
     "text": "115 149 0 11\n1.0 0.9126984126984127 0.9543568464730291\n"
    }
   ],
   "source": [
    "true_positive = np.sum(np.logical_and((y_pred==y_test),(y_pred==1)))\n",
    "true_negative = np.sum(np.logical_and((y_pred==y_test),(y_pred==0)))\n",
    "false_positive = np.sum(np.logical_and((y_pred!=y_test),(y_pred==1)))\n",
    "false_negative = np.sum(np.logical_and((y_pred!=y_test),(y_pred==0)))\n",
    "print(true_positive,true_negative,false_positive,false_negative)\n",
    "precision_1 = true_positive/(true_positive+false_positive)\n",
    "precision_0 = true_negative/(true_negative+false_negative)\n",
    "recall_1 = true_positive/(true_positive+false_negative)\n",
    "recall_0 = true_negative/(true_negative+false_positive)\n",
    "f1_score_1 = 2*(precision_1*recall_1)/(precision_1+recall_1)\n",
    "print(precision_1,recall_1,f1_score_1)"
   ]
  },
  {
   "cell_type": "code",
   "execution_count": 32,
   "metadata": {},
   "outputs": [
    {
     "output_type": "stream",
     "name": "stdout",
     "text": "False\n"
    }
   ],
   "source": [
    "mylist = [True, False, True]\n",
    "x = all(mylist)\n",
    "print(x)"
   ]
  },
  {
   "cell_type": "code",
   "execution_count": null,
   "metadata": {},
   "outputs": [],
   "source": []
  },
  {
   "cell_type": "code",
   "execution_count": null,
   "metadata": {},
   "outputs": [],
   "source": []
  }
 ],
 "metadata": {
  "kernelspec": {
   "display_name": "Python 3.7.6 64-bit ('base': conda)",
   "language": "python",
   "name": "python37664bitbasecondabb6175eb7a0d4688892d363a49a69da0"
  },
  "language_info": {
   "codemirror_mode": {
    "name": "ipython",
    "version": 3
   },
   "file_extension": ".py",
   "mimetype": "text/x-python",
   "name": "python",
   "nbconvert_exporter": "python",
   "pygments_lexer": "ipython3",
   "version": "3.7.6-final"
  }
 },
 "nbformat": 4,
 "nbformat_minor": 4
}