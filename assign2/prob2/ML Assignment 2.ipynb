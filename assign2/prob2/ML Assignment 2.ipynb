{
 "cells": [
  {
   "cell_type": "code",
   "execution_count": 9,
   "metadata": {},
   "outputs": [
    {
     "name": "stdout",
     "output_type": "stream",
     "text": [
      "      LotArea  OverallQual  OverallCond  TotalBsmtSF  FullBath  HalfBath  \\\n",
      "1164    16157            5            7         1360         1         1   \n",
      "860      7642            7            8          912         1         1   \n",
      "520     10800            4            7            0         2         0   \n",
      "219      3010            7            5         1248         2         0   \n",
      "1025     7700            5            5          882         1         0   \n",
      "...       ...          ...          ...          ...       ...       ...   \n",
      "996     10659            5            6         1050         1         0   \n",
      "160     11120            6            6         1232         2         0   \n",
      "846      9317            7            5          740         2         1   \n",
      "760      9100            6            6          864         1         0   \n",
      "549      9375            7            5          912         2         1   \n",
      "\n",
      "      BedroomAbvGr  TotRmsAbvGrd  Fireplaces  GarageArea  \n",
      "1164             2             5           1         588  \n",
      "860              3             7           1         216  \n",
      "520              3             7           0           0  \n",
      "219              2             5           0         438  \n",
      "1025             3             5           0         461  \n",
      "...            ...           ...         ...         ...  \n",
      "996              3             6           0         368  \n",
      "160              3             6           0         516  \n",
      "846              3             7           1         425  \n",
      "760              2             5           0         300  \n",
      "549              4             8           1         615  \n",
      "\n",
      "[1168 rows x 10 columns]\n"
     ]
    },
    {
     "name": "stderr",
     "output_type": "stream",
     "text": [
      "C:\\Users\\Laxmi Kanth\\Anaconda3\\lib\\site-packages\\ipykernel_launcher.py:12: RuntimeWarning: divide by zero encountered in log\n",
      "  if sys.path[0] == '':\n",
      "C:\\Users\\Laxmi Kanth\\Anaconda3\\lib\\site-packages\\ipykernel_launcher.py:12: RuntimeWarning: invalid value encountered in multiply\n",
      "  if sys.path[0] == '':\n",
      "C:\\Users\\Laxmi Kanth\\Anaconda3\\lib\\site-packages\\ipykernel_launcher.py:108: RuntimeWarning: invalid value encountered in less\n"
     ]
    },
    {
     "name": "stdout",
     "output_type": "stream",
     "text": [
      "err after epoch:\n",
      " [[nan]]\n",
      "0\n",
      "err after epoch:\n",
      " [[nan]]\n",
      "1\n",
      "err after epoch:\n",
      " [[nan]]\n",
      "2\n"
     ]
    },
    {
     "ename": "KeyboardInterrupt",
     "evalue": "",
     "output_type": "error",
     "traceback": [
      "\u001b[1;31m---------------------------------------------------------------------------\u001b[0m",
      "\u001b[1;31mKeyboardInterrupt\u001b[0m                         Traceback (most recent call last)",
      "\u001b[1;32m<ipython-input-9-24b2a34364f9>\u001b[0m in \u001b[0;36m<module>\u001b[1;34m\u001b[0m\n\u001b[0;32m     97\u001b[0m                 \u001b[0mw\u001b[0m\u001b[1;33m[\u001b[0m\u001b[0mj\u001b[0m\u001b[1;33m,\u001b[0m\u001b[0ml\u001b[0m\u001b[1;33m]\u001b[0m\u001b[1;33m=\u001b[0m\u001b[0mw\u001b[0m\u001b[1;33m[\u001b[0m\u001b[0mj\u001b[0m\u001b[1;33m,\u001b[0m\u001b[0ml\u001b[0m\u001b[1;33m]\u001b[0m\u001b[1;33m-\u001b[0m\u001b[0malpha\u001b[0m\u001b[1;33m*\u001b[0m\u001b[1;33m(\u001b[0m\u001b[1;33m(\u001b[0m\u001b[0merr_corr1\u001b[0m\u001b[1;33m[\u001b[0m\u001b[0mj\u001b[0m\u001b[1;33m]\u001b[0m\u001b[1;33m)\u001b[0m\u001b[1;33m)\u001b[0m\u001b[1;33m*\u001b[0m\u001b[1;33m(\u001b[0m\u001b[0mx_train\u001b[0m\u001b[1;33m[\u001b[0m\u001b[0mi\u001b[0m\u001b[1;33m,\u001b[0m\u001b[0ml\u001b[0m\u001b[1;33m]\u001b[0m\u001b[1;33m)\u001b[0m\u001b[1;33m\u001b[0m\u001b[1;33m\u001b[0m\u001b[0m\n\u001b[0;32m     98\u001b[0m                 \u001b[0ml\u001b[0m\u001b[1;33m=\u001b[0m\u001b[0ml\u001b[0m\u001b[1;33m+\u001b[0m\u001b[1;36m1\u001b[0m\u001b[1;33m\u001b[0m\u001b[1;33m\u001b[0m\u001b[0m\n\u001b[1;32m---> 99\u001b[1;33m             \u001b[0mwo\u001b[0m\u001b[1;33m[\u001b[0m\u001b[0mj\u001b[0m\u001b[1;33m]\u001b[0m\u001b[1;33m=\u001b[0m\u001b[0mwo\u001b[0m\u001b[1;33m[\u001b[0m\u001b[0mj\u001b[0m\u001b[1;33m]\u001b[0m\u001b[1;33m-\u001b[0m\u001b[0malpha\u001b[0m\u001b[1;33m*\u001b[0m\u001b[0merr_corr1\u001b[0m\u001b[1;33m[\u001b[0m\u001b[0mj\u001b[0m\u001b[1;33m]\u001b[0m\u001b[1;33m\u001b[0m\u001b[1;33m\u001b[0m\u001b[0m\n\u001b[0m\u001b[0;32m    100\u001b[0m             \u001b[0mj\u001b[0m\u001b[1;33m=\u001b[0m\u001b[0mj\u001b[0m\u001b[1;33m+\u001b[0m\u001b[1;36m1\u001b[0m\u001b[1;33m\u001b[0m\u001b[1;33m\u001b[0m\u001b[0m\n\u001b[0;32m    101\u001b[0m \u001b[1;33m\u001b[0m\u001b[0m\n",
      "\u001b[1;31mKeyboardInterrupt\u001b[0m: "
     ]
    }
   ],
   "source": [
    "import pandas as pd\n",
    "import numpy as np\n",
    "\n",
    "        \n",
    "def sigmoid(y):\n",
    "      return (1/(1+np.exp(-y)))\n",
    "    \n",
    "def sigmoid_derivative( x): \n",
    "      return sigmoid(x)*(1 - sigmoid(x)) \n",
    "\n",
    "def binary_cross_entropy(t,y):\n",
    "    return (-t*(np.log(y))-(1-t)*(np.log(1-y)))\n",
    " \n",
    "          \n",
    "M=15\n",
    "df=pd.read_csv('housepricedata.csv')\n",
    "df1=df.sample(frac=0.8,random_state=1111)\n",
    "df2=df.drop(df1.index)\n",
    "X_train=df1.drop(columns='AboveMedianPrice')\n",
    "Y_train=df1['AboveMedianPrice']\n",
    "X_test=df2.drop(columns='AboveMedianPrice')\n",
    "Y_test=df2['AboveMedianPrice']\n",
    "print(X_train)\n",
    "\n",
    "tolerance=10**(-6)\n",
    "alpha=0.05\n",
    "\n",
    "#w=np.full((M,10),0.001)\n",
    "#v=np.full((1,M),0.001)\n",
    "#wo=np.full((M,1),0.0001)\n",
    "#vo=np.full((1,1),0.0001)\n",
    "\n",
    "\n",
    "w=np.random.rand(M,10)\n",
    "v=np.random.rand(1,M)\n",
    "wo=np.random.rand(M,1)\n",
    "vo=np.random.rand(1,1)\n",
    "\n",
    "y_train=[]\n",
    "x_train=[]\n",
    "i=0\n",
    "for i in range(len(X_train)):\n",
    "    x=(X_train.iloc[i,:])\n",
    "    x_train.append(x)\n",
    "    i=i+1\n",
    "x_train=np.array(x_train)   \n",
    "i=0\n",
    "for i in range(len(X_train)):\n",
    "    y=(Y_train.iloc[i])\n",
    "    y_train.append(y)\n",
    "    i=i+1\n",
    "y_train=np.array(y_train)  \n",
    "i=0\n",
    "k=0\n",
    "#print((w).dot(x_train[0]))\n",
    "for k in range(2500):\n",
    "    err=[]\n",
    "    for i in range(len(X_train)):\n",
    "        j=0\n",
    "        err_corr1=[]\n",
    "        a=[]\n",
    "        z=[]\n",
    "        z=np.array(z)\n",
    "        y=[]\n",
    "        a=((w).dot((x_train[i].T)))+wo.T\n",
    "        #print('a:\\n',a)\n",
    "        z=sigmoid(a)\n",
    "        #print('z',z)\n",
    "        y_in=(v.dot((z.T)))+vo  \n",
    "        y=sigmoid(y_in)    \n",
    "        #print('y\\n:',y)\n",
    "        error= binary_cross_entropy(y_train[i],y)\n",
    "        err.append(error)\n",
    "        #print('error:\\n',error)\n",
    "        #if error<tolerance:\n",
    "        #    print('Converged')\n",
    "         #   break\n",
    "        #print(Y_train[0])\n",
    "        #error gradient in the second layer\n",
    "        err_corr2=(y_train[i]-y)*(sigmoid_derivative(y))\n",
    "        for j in range(M):\n",
    "            err_corr1.append((err_corr2*(v[:,j]))*(sigmoid_derivative(z[:,j])))\n",
    "            j=j+1\n",
    "        #print('err_corr1\\n',err_corr1)\n",
    "        #print(err_corr2)\n",
    "        #updating weights in the second layer\n",
    "        #print(v)\n",
    "        j=0\n",
    "        for j in range(M):\n",
    "            v[:,j]=v[:,j]-alpha*(err_corr2)*z[:,j]\n",
    "            vo=vo-alpha*(err_corr2)\n",
    "            j=j+1\n",
    "        j=0\n",
    "        l=0\n",
    "        for j in range(M):\n",
    "            for l in range(10):\n",
    "                w[j,l]=w[j,l]-alpha*((err_corr1[j]))*(x_train[i,l])\n",
    "                l=l+1\n",
    "            wo[j]=wo[j]-alpha*err_corr1[j]\n",
    "            j=j+1\n",
    "\n",
    "        #print('updated v:\\n',v)\n",
    "        #updating weights in first layer\n",
    "        #print(w[0])\n",
    "\n",
    "        #print('updated w:\\n',w)\n",
    "        i=i+1\n",
    "    if sum(err)<tolerance:\n",
    "        print('Converged')\n",
    "        break\n",
    "    print('err after epoch:\\n',sum(err))\n",
    "    epoch=k\n",
    "    print(k)\n",
    "    k=k+1\n",
    "\n",
    "    \n",
    "    \n",
    "print('updated w:\\n',w)\n",
    "print('updated v:\\n',v)\n",
    "\n",
    "\n",
    "\n",
    "#a=(w[i]).dot(x_train[i].T)+ wo[i,1]   \n",
    "#print(x_train[0])\n",
    "#print(((w).dot((x_train[0].T)))+wo.T)\n",
    "#+wo[0,0])\n",
    "#print(x_train[0])\n",
    "#print(a)\n",
    "#print(z.shape)\n",
    "#print(z)\n",
    "\n",
    "#print(v.dot(z)+vo)\n",
    "     "
   ]
  },
  {
   "cell_type": "code",
   "execution_count": 33,
   "metadata": {},
   "outputs": [
    {
     "name": "stdout",
     "output_type": "stream",
     "text": [
      "15\n"
     ]
    }
   ],
   "source": [
    "print(M)"
   ]
  },
  {
   "cell_type": "code",
   "execution_count": 39,
   "metadata": {},
   "outputs": [
    {
     "name": "stdout",
     "output_type": "stream",
     "text": [
      "7\n"
     ]
    }
   ],
   "source": [
    "print(x_train[1,1])"
   ]
  },
  {
   "cell_type": "code",
   "execution_count": 6,
   "metadata": {},
   "outputs": [
    {
     "data": {
      "text/plain": [
       "1.6094379124341003"
      ]
     },
     "execution_count": 6,
     "metadata": {},
     "output_type": "execute_result"
    }
   ],
   "source": [
    "np.log(5)"
   ]
  },
  {
   "cell_type": "code",
   "execution_count": null,
   "metadata": {},
   "outputs": [],
   "source": [
    "X_train.iloc[1,:]\n",
    "w=np.full((M,len(X_train.T)),0.0001)\n",
    "v=np.full((1,M),0.001)\n",
    "wo=np.full((M,len(X_train)),0.00001)\n",
    "vo=np.full((1,len(X_train)),0.00001)\n",
    "a=[[]]\n",
    "y=[]\n",
    "x_train=[]\n",
    "i=0\n",
    "for i in range(len(X_train)):\n",
    "    x=(X_train.iloc[i,:])\n",
    "    x_train.append(x)\n",
    "    i=i+1\n",
    "x_train=np.array(x_train)    \n",
    "#a=(w).dot(x_train.T)+ wo   \n",
    "#print((w[0]).dot((x_train[0].T))+wo[0,0])\n",
    "print(x_train[0])\n",
    "#print(a)\n",
    "#z=[[]]\n",
    "#i=0\n",
    "#j=0\n",
    "#z=sigmoid(a)\n",
    "#print(z.shape)\n",
    "#print(z)\n",
    "#y=v.dot(z)+vo\n",
    "#print(v.dot(z)+vo)\n",
    "     "
   ]
  }
 ],
 "metadata": {
  "kernelspec": {
   "display_name": "Python 3",
   "language": "python",
   "name": "python3"
  },
  "language_info": {
   "codemirror_mode": {
    "name": "ipython",
    "version": 3
   },
   "file_extension": ".py",
   "mimetype": "text/x-python",
   "name": "python",
   "nbconvert_exporter": "python",
   "pygments_lexer": "ipython3",
   "version": "3.7.4"
  }
 },
 "nbformat": 4,
 "nbformat_minor": 2
}
