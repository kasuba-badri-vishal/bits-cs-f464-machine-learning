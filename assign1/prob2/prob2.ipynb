{
 "cells": [
  {
   "cell_type": "code",
   "execution_count": 145,
   "metadata": {},
   "outputs": [],
   "source": [
    "import pandas as pd\n",
    "import numpy as np\n",
    "from nltk.tokenize import word_tokenize\n",
    "from nltk.corpus import stopwords"
   ]
  },
  {
   "cell_type": "code",
   "execution_count": 146,
   "metadata": {},
   "outputs": [],
   "source": [
    "dataset = pd.io.parsers.read_csv('a1_d3.txt', sep='\\t',names=['data','value'])\n",
    "zeroes = (dataset['value']==0).sum(axis=0)\n",
    "ones = (dataset['value']==1).sum(axis=0)"
   ]
  },
  {
   "cell_type": "markdown",
   "metadata": {},
   "source": [
    "# Preprocessing"
   ]
  },
  {
   "cell_type": "code",
   "execution_count": 147,
   "metadata": {},
   "outputs": [],
   "source": [
    "stop = stopwords.words('english')\n",
    "dataset['data'] = dataset['data'].str.lower()\n",
    "dataset['data'] = dataset['data'].str.replace(r'[-,\\.&!\\+\\';0-9\\(\\)#@$%^&?~`:'']+','')\n",
    "dataset['data'] = dataset['data'].apply(word_tokenize)\n",
    "dataset['data'] = dataset['data'].apply(lambda x: [item for item in x if item not in stop])"
   ]
  },
  {
   "cell_type": "code",
   "execution_count": 148,
   "metadata": {},
   "outputs": [
    {
     "name": "stdout",
     "output_type": "stream",
     "text": [
      "404 396\n"
     ]
    }
   ],
   "source": [
    "dataset = dataset.sample(frac=1)\n",
    "train_set = dataset[:int(0.8*len(dataset))]\n",
    "test_set = dataset[int(0.8*len(dataset)):]\n",
    "x_train = train_set['data']\n",
    "y_train = train_set['value']\n",
    "x_test = test_set['data']\n",
    "y_test = test_set['value']\n",
    "zeroes = (y_train==0).sum(axis=0)\n",
    "ones = (y_train==1).sum(axis=0)\n",
    "print(zeroes,ones)"
   ]
  },
  {
   "cell_type": "code",
   "execution_count": 159,
   "metadata": {},
   "outputs": [],
   "source": [
    "x_train1 = x_train[y_train==1]\n",
    "x_train0 = x_train[y_train==0]"
   ]
  },
  {
   "cell_type": "code",
   "execution_count": 158,
   "metadata": {},
   "outputs": [
    {
     "name": "stdout",
     "output_type": "stream",
     "text": [
      "Number of words after preprocessing are 4302\n",
      "Total number of unique words are  1555\n",
      "['definitely', 'good']\n"
     ]
    }
   ],
   "source": [
    "dict = {}\n",
    "count = 0\n",
    "for data in x_train:\n",
    "    for item in data:\n",
    "        dict[item] = 0\n",
    "        count +=1\n",
    "for data in x_train:\n",
    "    for item in data:\n",
    "            dict[item] +=1\n",
    "print(\"Number of words after preprocessing are\",count)\n",
    "dict = pd.DataFrame(dict.items(),columns=['word','freq'])\n",
    "unique_words = len(dict.index)\n",
    "alpha = 1\n",
    "total_words = count\n",
    "print(\"Total number of unique words are \",unique_words)\n",
    "temp = total_words + unique_words\n",
    "dict['prob'] = (dict['freq'] + alpha)/(temp)\n",
    "print(dict)"
   ]
  },
  {
   "cell_type": "code",
   "execution_count": 153,
   "metadata": {},
   "outputs": [
    {
     "name": "stdout",
     "output_type": "stream",
     "text": [
      "Number of words after preprocessing are 2194\n",
      "Total number of unique words are  1032\n",
      "                    word  freq     prob\n",
      "0                  voice     3  0.00124\n",
      "1                quality    16  0.00527\n",
      "2                 signal     4  0.00155\n",
      "3               strength     1  0.00062\n",
      "4                dropped     5  0.00186\n",
      "...                  ...   ...      ...\n",
      "1027             numbers     1  0.00062\n",
      "1028                 sim     1  0.00062\n",
      "1029              flimsy     1  0.00062\n",
      "1030          protection     1  0.00062\n",
      "1031  unacceptableunless     1  0.00062\n",
      "\n",
      "[1032 rows x 3 columns]\n"
     ]
    }
   ],
   "source": [
    "dict = {}\n",
    "count = 0\n",
    "for data in x_train1:\n",
    "    for item in data:\n",
    "        dict[item] = 0\n",
    "        count +=1\n",
    "for data in x_train1:\n",
    "    for item in data:\n",
    "            dict[item] +=1\n",
    "print(\"Number of words after preprocessing are\",count)\n",
    "dict = pd.DataFrame(dict.items(),columns=['word','freq'])\n",
    "unique_words = len(dict.index)\n",
    "alpha = 1\n",
    "total_words = count\n",
    "# print(\"Total number of unique words are \",unique_words)\n",
    "# temp = total_words + unique_words\n",
    "dict['prob'] = (dict['freq'] + alpha)/(temp)\n",
    "print(dict)"
   ]
  },
  {
   "cell_type": "code",
   "execution_count": 154,
   "metadata": {},
   "outputs": [
    {
     "name": "stdout",
     "output_type": "stream",
     "text": [
      "Number of words after preprocessing are 2108\n",
      "Total number of unique words are  876\n",
      "          word  freq      prob\n",
      "0    beautiful     1  0.000670\n",
      "1        phone    70  0.023794\n",
      "2        jabra     6  0.002346\n",
      "3          ear    13  0.004692\n",
      "4         gels     1  0.000670\n",
      "..         ...   ...       ...\n",
      "871       schr     1  0.000670\n",
      "872     slider     1  0.000670\n",
      "873       sony     1  0.000670\n",
      "874    premium     1  0.000670\n",
      "875      plugs     1  0.000670\n",
      "\n",
      "[876 rows x 3 columns]\n"
     ]
    }
   ],
   "source": [
    "dict = {}\n",
    "count = 0\n",
    "for data in x_train0:\n",
    "    for item in data:\n",
    "        dict[item] = 0\n",
    "        count +=1\n",
    "for data in x_train0:\n",
    "    for item in data:\n",
    "            dict[item] +=1\n",
    "print(\"Number of words after preprocessing are\",count)\n",
    "dict = pd.DataFrame(dict.items(),columns=['word','freq'])\n",
    "unique_words = len(dict.index)\n",
    "alpha = 1\n",
    "total_words = count\n",
    "print(\"Total number of unique words are \",unique_words)\n",
    "temp = total_words + unique_words\n",
    "dict['prob'] = (dict['freq'] + alpha)/(temp)\n",
    "print(dict)"
   ]
  },
  {
   "cell_type": "code",
   "execution_count": 164,
   "metadata": {},
   "outputs": [
    {
     "name": "stdout",
     "output_type": "stream",
     "text": [
      "['tried', 'units', 'failed', 'within', 'months', 'pros']\n"
     ]
    }
   ],
   "source": [
    "print(x_test[734])"
   ]
  },
  {
   "cell_type": "code",
   "execution_count": null,
   "metadata": {},
   "outputs": [],
   "source": []
  }
 ],
 "metadata": {
  "kernelspec": {
   "display_name": "Python 3.7.6 64-bit ('base': conda)",
   "language": "python",
   "name": "python37664bitbasecondabb6175eb7a0d4688892d363a49a69da0"
  },
  "language_info": {
   "codemirror_mode": {
    "name": "ipython",
    "version": 3
   },
   "file_extension": ".py",
   "mimetype": "text/x-python",
   "name": "python",
   "nbconvert_exporter": "python",
   "pygments_lexer": "ipython3",
   "version": "3.7.6"
  }
 },
 "nbformat": 4,
 "nbformat_minor": 4
}
