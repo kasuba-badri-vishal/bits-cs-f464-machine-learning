{
 "cells": [
  {
   "cell_type": "code",
   "execution_count": 2,
   "metadata": {},
   "outputs": [],
   "source": [
    "import pandas as pd\n",
    "import numpy as np\n",
    "import re"
   ]
  },
  {
   "cell_type": "code",
   "execution_count": 3,
   "metadata": {},
   "outputs": [],
   "source": [
    "dataset = pd.io.parsers.read_csv('a1_d3.txt', sep='\\t',names=['data','value'])\n",
    "zeroes = (dataset['value']==0).sum(axis=0)\n",
    "ones = (dataset['value']==1).sum(axis=0)"
   ]
  },
  {
   "cell_type": "markdown",
   "metadata": {},
   "source": [
    "# Preprocessing"
   ]
  },
  {
   "cell_type": "code",
   "execution_count": 4,
   "metadata": {},
   "outputs": [],
   "source": [
    "stop = [\"i\", \"me\", \"my\", \"myself\", \"we\", \"our\", \"ours\", \"ourselves\", \"you\", \"your\", \"yours\", \"yourself\", \"yourselves\", \"he\", \"him\", \"his\", \"himself\", \"she\", \"her\", \"hers\", \"herself\", \"it\", \"its\", \"itself\", \"they\", \"them\", \"their\", \"theirs\", \"themselves\", \"what\", \"which\", \"who\", \"whom\", \"this\", \"that\", \"these\", \"those\", \"am\", \"is\", \"are\", \"was\", \"were\", \"be\", \"been\", \"being\", \"have\", \"has\", \"had\", \"having\", \"do\", \"does\", \"did\", \"doing\", \"a\", \"an\", \"the\", \"and\", \"but\", \"if\", \"or\", \"because\", \"as\", \"until\", \"while\", \"of\", \"at\", \"by\", \"for\", \"with\", \"about\", \"against\", \"between\", \"into\", \"through\", \"during\", \"before\", \"after\", \"above\", \"below\", \"to\", \"from\", \"up\", \"down\", \"in\", \"out\", \"on\", \"off\", \"over\", \"under\", \"again\", \"further\", \"then\", \"once\", \"here\", \"there\", \"when\", \"where\", \"why\", \"how\", \"all\", \"any\", \"both\", \"each\", \"few\", \"more\", \"most\", \"other\", \"some\", \"such\", \"no\", \"nor\", \"not\", \"only\", \"own\", \"same\", \"so\", \"than\", \"too\", \"very\", \"s\", \"t\", \"can\", \"will\", \"just\", \"don\", \"should\", \"now\"]\n",
    "dataset['data'] = dataset['data'].str.lower()\n",
    "dataset['data'] = dataset['data'].str.replace(r'[-,\\.&!\\+\\';0-9\"\\(\\)#@$%^&?~`:'']+','',regex=True)\n",
    "dataset['data'] = list(map(str.split, dataset['data']))\n",
    "dataset['data'] = dataset['data'].apply(lambda x: [item for item in x if item not in stop])\n",
    "# values = dataset.data.str.split(expand=True).stack()#value_counts()"
   ]
  },
  {
   "cell_type": "code",
   "execution_count": 5,
   "metadata": {},
   "outputs": [
    {
     "name": "stdout",
     "output_type": "stream",
     "text": [
      "411 389\n"
     ]
    }
   ],
   "source": [
    "dataset = dataset.sample(frac=1)\n",
    "train_set = dataset[:int(0.8*len(dataset))]\n",
    "test_set = dataset[int(0.8*len(dataset)):]\n",
    "x_train = train_set['data']\n",
    "y_train = train_set['value']\n",
    "x_test = test_set['data']\n",
    "y_test = test_set['value']\n",
    "zeroes = (y_train==0).sum(axis=0)\n",
    "ones = (y_train==1).sum(axis=0)\n",
    "print(zeroes,ones)"
   ]
  },
  {
   "cell_type": "code",
   "execution_count": 6,
   "metadata": {},
   "outputs": [],
   "source": [
    "x_train1 = x_train[y_train==1]\n",
    "x_train0 = x_train[y_train==0]"
   ]
  },
  {
   "cell_type": "code",
   "execution_count": 7,
   "metadata": {},
   "outputs": [
    {
     "data": {
      "text/plain": [
       "330                                        [comfortable]\n",
       "887                                [best, headset, ever]\n",
       "624    [cases, ive, tried, normally, fall, apart, mon...\n",
       "247               [nice, headphones, price, work, great]\n",
       "474                                     [delivery, time]\n",
       "                             ...                        \n",
       "72                                       [great, choice]\n",
       "879    [seems, completely, secure, holding, belt, kee...\n",
       "61     [really, recommend, faceplates, since, looks, ...\n",
       "13                               [good, quality, though]\n",
       "470             [tmobile, service, years, pretty, happy]\n",
       "Name: data, Length: 389, dtype: object"
      ]
     },
     "execution_count": 7,
     "metadata": {},
     "output_type": "execute_result"
    }
   ],
   "source": [
    "x_train1"
   ]
  },
  {
   "cell_type": "code",
   "execution_count": 8,
   "metadata": {},
   "outputs": [
    {
     "name": "stdout",
     "output_type": "stream",
     "text": [
      "Number of words after preprocessing are 2048\n",
      "2048\n",
      "Total number of unique words are  857\n",
      "            word  freq      prob\n",
      "0    comfortable    10  0.003787\n",
      "1           best    15  0.005508\n",
      "2        headset    21  0.007573\n",
      "3           ever     4  0.001721\n",
      "4          cases     5  0.002065\n",
      "..           ...   ...       ...\n",
      "852  distracting     1  0.000688\n",
      "853   completely     1  0.000688\n",
      "854      keeping     1  0.000688\n",
      "855   faceplates     1  0.000688\n",
      "856      elegant     1  0.000688\n",
      "\n",
      "[857 rows x 3 columns]\n"
     ]
    }
   ],
   "source": [
    "dict = {}\n",
    "count = 0\n",
    "for data in x_train1:\n",
    "    for item in data:\n",
    "        dict[item] = 0\n",
    "        count +=1\n",
    "for data in x_train1:\n",
    "    for item in data:\n",
    "        dict[item] +=1\n",
    "print(\"Number of words after preprocessing are\",count)\n",
    "dict1 = pd.DataFrame(dict.items(),columns=['word','freq'])\n",
    "unique_words1 = len(dict1.index)\n",
    "alpha = 1\n",
    "total_words1 = count\n",
    "print(np.sum(dict1['freq']))\n",
    "print(\"Total number of unique words are \",unique_words1)\n",
    "temp1 = total_words1 + unique_words1\n",
    "dict1['prob'] = (dict1['freq'] + alpha)/(temp1)\n",
    "print(dict1)"
   ]
  },
  {
   "cell_type": "code",
   "execution_count": 9,
   "metadata": {},
   "outputs": [
    {
     "name": "stdout",
     "output_type": "stream",
     "text": [
      "Number of words after preprocessing are 2178\n",
      "            word  freq      prob\n",
      "0            get    11  0.003756\n",
      "1     absolutely     1  0.000626\n",
      "2       horrible     5  0.001878\n",
      "3      reception     4  0.001565\n",
      "4      apartment     1  0.000626\n",
      "...          ...   ...       ...\n",
      "1012         red     1  0.000626\n",
      "1013        port     1  0.000626\n",
      "1014        irda     1  0.000626\n",
      "1015    pleather     1  0.000626\n",
      "1016        pads     1  0.000626\n",
      "\n",
      "[1017 rows x 3 columns]\n"
     ]
    }
   ],
   "source": [
    "dict = {}\n",
    "count = 0\n",
    "for data in x_train0:\n",
    "    for item in data:\n",
    "        dict[item] = 0\n",
    "        count +=1\n",
    "for data in x_train0:\n",
    "    for item in data:\n",
    "            dict[item] +=1\n",
    "print(\"Number of words after preprocessing are\",count)\n",
    "dict0 = pd.DataFrame(dict.items(),columns=['word','freq'])\n",
    "unique_words0 = len(dict0.index)\n",
    "alpha = 1\n",
    "total_words0 = count\n",
    "# print(\"Total number of unique words are \",unique_words)\n",
    "temp0 = total_words0 + unique_words0\n",
    "dict0['prob'] = (dict0['freq'] + alpha)/(temp0)\n",
    "print(dict0)"
   ]
  },
  {
   "cell_type": "code",
   "execution_count": 10,
   "metadata": {},
   "outputs": [
    {
     "name": "stderr",
     "output_type": "stream",
     "text": [
      "/home/badri/anaconda3/lib/python3.7/site-packages/ipykernel_launcher.py:10: SettingWithCopyWarning: \n",
      "A value is trying to be set on a copy of a slice from a DataFrame\n",
      "\n",
      "See the caveats in the documentation: https://pandas.pydata.org/pandas-docs/stable/user_guide/indexing.html#returning-a-view-versus-a-copy\n",
      "  # Remove the CWD from sys.path while we load stuff.\n",
      "/home/badri/anaconda3/lib/python3.7/site-packages/ipykernel_launcher.py:12: SettingWithCopyWarning: \n",
      "A value is trying to be set on a copy of a slice from a DataFrame\n",
      "\n",
      "See the caveats in the documentation: https://pandas.pydata.org/pandas-docs/stable/user_guide/indexing.html#returning-a-view-versus-a-copy\n",
      "  if sys.path[0] == '':\n",
      "/home/badri/anaconda3/lib/python3.7/site-packages/ipykernel_launcher.py:20: SettingWithCopyWarning: \n",
      "A value is trying to be set on a copy of a slice from a DataFrame\n",
      "\n",
      "See the caveats in the documentation: https://pandas.pydata.org/pandas-docs/stable/user_guide/indexing.html#returning-a-view-versus-a-copy\n",
      "/home/badri/anaconda3/lib/python3.7/site-packages/ipykernel_launcher.py:22: SettingWithCopyWarning: \n",
      "A value is trying to be set on a copy of a slice from a DataFrame\n",
      "\n",
      "See the caveats in the documentation: https://pandas.pydata.org/pandas-docs/stable/user_guide/indexing.html#returning-a-view-versus-a-copy\n"
     ]
    },
    {
     "name": "stdout",
     "output_type": "stream",
     "text": [
      "                                                  data     prob1     prob0\n",
      "0    [headset, works, great, packaged, nicely, avoi...  0.046127  0.008138\n",
      "1         [get, extra, minutes, carry, call, get, cut]  0.006196  0.012520\n",
      "2                                       [jerks, phone]  0.022031  0.020344\n",
      "3    [*, comes, strong, light, use, light, camera, ...  0.017900  0.015962\n",
      "4      [ive, bought, wired, headphones, sound, better]  0.021343  0.010329\n",
      "..                                                 ...       ...       ...\n",
      "195              [someone, shouldve, invented, sooner]  0.001377  0.001252\n",
      "196  [got, aluminum, case, new, palm, vx, worked, r...  0.023752  0.016901\n",
      "197                                       [good, case]  0.022375  0.007199\n",
      "198         [pair, headphones, worst, ever, soundwise]  0.004131  0.008138\n",
      "199                                       [kept, well]  0.007917  0.003756\n",
      "\n",
      "[200 rows x 3 columns]\n"
     ]
    }
   ],
   "source": [
    "x_test = pd.DataFrame(x_test,columns=['data','prob1','prob0'])\n",
    "x_test['prob1'] = 0.0\n",
    "x_test['prob0'] = 0.0\n",
    "x_test = x_test.reset_index(inplace=False,drop=True)\n",
    "i=0\n",
    "for data in x_test['data']:\n",
    "    for item in data:\n",
    "        if item in dict1.values:\n",
    "#             print(item)\n",
    "            x_test['prob1'][i] += dict1.loc[dict1['word']==item,'prob']\n",
    "        else:\n",
    "            x_test['prob1'][i] += 1/(temp1)\n",
    "    i += 1\n",
    "# print(x_test)   \n",
    "i=0\n",
    "for data in x_test['data']:\n",
    "    for item in data:\n",
    "        if item in dict0.values:\n",
    "#             print(item)\n",
    "            x_test['prob0'][i] += dict0.loc[dict0['word']==item,'prob']\n",
    "        else:\n",
    "            x_test['prob0'][i] += 1/(temp0)\n",
    "    i += 1\n",
    "print(x_test)   \n",
    "            \n",
    "            "
   ]
  },
  {
   "cell_type": "code",
   "execution_count": 11,
   "metadata": {},
   "outputs": [],
   "source": [
    "ans = x_test['prob1']>=x_test['prob0']\n",
    "ans = ans.astype(int)\n",
    "ans = np.array(ans)\n",
    "y_test = np.array(y_test)"
   ]
  },
  {
   "cell_type": "code",
   "execution_count": 12,
   "metadata": {},
   "outputs": [
    {
     "name": "stdout",
     "output_type": "stream",
     "text": [
      "[1 0 1 1 1 1 0 1 1 1 1 0 0 1 1 1 1 1 1 1 0 0 1 0 1 0 0 1 0 1 1 1 1 1 0 0 0\n",
      " 1 1 1 1 1 1 1 1 1 0 1 0 1 1 1 1 1 0 1 1 1 1 0 1 0 0 1 0 1 1 1 1 0 0 0 0 0\n",
      " 0 1 1 1 0 1 1 1 1 1 1 1 1 1 1 0 1 1 1 1 1 1 1 0 1 1 0 0 1 1 1 0 1 1 0 1 0\n",
      " 1 0 0 0 0 1 1 1 1 1 1 1 1 1 1 1 1 1 0 1 0 1 1 1 1 1 1 1 1 0 1 1 1 0 1 1 1\n",
      " 1 1 0 1 1 1 1 1 1 1 1 1 0 1 1 1 0 1 1 0 1 0 0 1 1 1 1 1 1 1 1 1 0 1 1 1 0\n",
      " 1 1 0 1 1 0 1 1 1 1 1 1 1 0 1]\n",
      "[1 1 0 1 0 0 0 1 1 1 1 0 0 1 1 1 1 1 1 1 0 1 1 0 1 0 0 1 0 1 1 1 1 1 0 0 0\n",
      " 1 1 1 0 1 1 1 1 0 0 0 0 0 0 1 1 0 1 1 1 0 1 0 1 0 1 1 0 1 0 1 1 0 0 0 0 0\n",
      " 0 1 1 1 1 1 1 1 1 0 1 1 1 1 0 0 1 1 1 1 0 1 1 0 1 0 0 0 1 1 0 0 1 1 1 0 0\n",
      " 1 0 0 0 0 1 1 1 1 0 1 1 0 1 0 1 1 0 0 0 0 0 1 1 0 0 1 1 1 0 1 1 1 1 1 0 0\n",
      " 0 1 0 1 1 0 0 0 1 1 0 1 0 1 0 1 0 0 1 0 0 0 0 1 1 1 0 1 0 1 0 0 0 0 1 1 0\n",
      " 1 1 0 0 0 0 1 1 0 1 1 1 1 0 1]\n"
     ]
    }
   ],
   "source": [
    "print(ans)\n",
    "print(y_test)"
   ]
  },
  {
   "cell_type": "code",
   "execution_count": 13,
   "metadata": {},
   "outputs": [
    {
     "name": "stdout",
     "output_type": "stream",
     "text": [
      "150\n"
     ]
    }
   ],
   "source": [
    "print(np.sum(ans==y_test))"
   ]
  },
  {
   "cell_type": "code",
   "execution_count": 14,
   "metadata": {},
   "outputs": [
    {
     "name": "stdout",
     "output_type": "stream",
     "text": [
      "200\n"
     ]
    }
   ],
   "source": [
    "print(y_test.size)"
   ]
  },
  {
   "cell_type": "code",
   "execution_count": 17,
   "metadata": {},
   "outputs": [
    {
     "name": "stdout",
     "output_type": "stream",
     "text": [
      "104 46 43 7\n",
      "0.7074829931972789 0.9369369369369369 0.8062015503875969\n",
      "0.8679245283018868 0.5168539325842697 0.647887323943662\n"
     ]
    }
   ],
   "source": [
    "y_pred = ans\n",
    "y_test = y_test\n",
    "true_positive = np.sum(np.logical_and((y_pred==y_test),(y_pred==1)))\n",
    "true_negative = np.sum(np.logical_and((y_pred==y_test),(y_pred==0)))\n",
    "false_positive = np.sum(np.logical_and((y_pred!=y_test),(y_pred==1)))\n",
    "false_negative = np.sum(np.logical_and((y_pred!=y_test),(y_pred==0)))\n",
    "print(true_positive,true_negative,false_positive,false_negative)\n",
    "precision_1 = true_positive/(true_positive+false_positive)\n",
    "precision_0 = true_negative/(true_negative+false_negative)\n",
    "recall_1 = true_positive/(true_positive+false_negative)\n",
    "recall_0 = true_negative/(true_negative+false_positive)\n",
    "f1_score_1 = 2*(precision_1*recall_1)/(precision_1+recall_1)\n",
    "f1_score_0 = 2*(precision_0*recall_0)/(precision_0+recall_0)\n",
    "print(precision_1,recall_1,f1_score_1)\n",
    "print(precision_0,recall_0,f1_score_0)"
   ]
  },
  {
   "cell_type": "code",
   "execution_count": null,
   "metadata": {},
   "outputs": [],
   "source": []
  },
  {
   "cell_type": "code",
   "execution_count": null,
   "metadata": {},
   "outputs": [],
   "source": []
  }
 ],
 "metadata": {
  "kernelspec": {
   "display_name": "Python 3",
   "language": "python",
   "name": "python3"
  },
  "language_info": {
   "codemirror_mode": {
    "name": "ipython",
    "version": 3
   },
   "file_extension": ".py",
   "mimetype": "text/x-python",
   "name": "python",
   "nbconvert_exporter": "python",
   "pygments_lexer": "ipython3",
   "version": "3.7.6"
  }
 },
 "nbformat": 4,
 "nbformat_minor": 4
}
