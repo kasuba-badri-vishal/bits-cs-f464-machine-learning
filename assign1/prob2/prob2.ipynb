{
 "cells": [
  {
   "cell_type": "code",
   "execution_count": 94,
   "metadata": {},
   "outputs": [],
   "source": [
    "import pandas as pd\n",
    "import numpy as np\n",
    "import re"
   ]
  },
  {
   "cell_type": "code",
   "execution_count": 95,
   "metadata": {},
   "outputs": [],
   "source": [
    "dataset = pd.io.parsers.read_csv('a1_d3.txt', sep='\\t',names=['data','value'])\n",
    "dataset['data'] = dataset['data'].str.lower()\n",
    "stop = [\"ive\",\"iam\",\"im\",\"i\", \"me\", \"my\", \"myself\", \"we\", \"our\", \"ours\", \"ourselves\", \"you\", \"your\", \"yours\", \"yourself\", \"yourselves\", \"he\", \"him\", \"his\", \"himself\", \"she\", \"her\", \"hers\", \"herself\", \"it\", \"its\", \"itself\", \"they\", \"them\", \"their\", \"theirs\", \"themselves\", \"what\", \"which\", \"who\", \"whom\", \"this\", \"that\", \"these\", \"those\", \"am\", \"is\", \"are\", \"was\", \"were\", \"be\", \"been\", \"being\", \"have\", \"has\", \"had\", \"having\", \"do\", \"does\", \"did\", \"doing\", \"a\", \"an\", \"the\", \"and\", \"but\", \"if\", \"or\", \"because\", \"as\", \"until\", \"while\", \"of\", \"at\", \"by\", \"for\", \"with\", \"about\", \"against\", \"between\", \"into\", \"through\", \"during\", \"before\", \"after\", \"above\", \"below\", \"to\", \"from\", \"up\", \"down\", \"in\", \"out\", \"on\", \"off\", \"over\", \"under\", \"again\", \"further\", \"then\", \"once\", \"here\", \"there\", \"when\", \"where\", \"why\", \"how\", \"all\", \"any\", \"both\", \"each\", \"few\", \"more\", \"most\", \"other\", \"some\", \"such\", \"no\", \"nor\", \"not\", \"only\", \"own\", \"same\", \"so\", \"than\", \"too\", \"very\", \"s\", \"t\", \"can\", \"will\", \"just\", \"don\", \"should\", \"now\"]\n",
    "# alphabets = [\"a\",\"b\",\"c\",\"d\",\"e\",\"f\",\"g\",\"h\",\"i\",\"j\",\"k\",\"l\",\"m\",\"n\",\"o\",\"p\",\"q\",\"r\",\"s\",\"t\",\"u\",\"v\",\"w\",\"x\",\"y\",\"z\"]\n",
    "dataset['data'] = dataset['data'].str.replace(r'[-,\\.&!\\+\\';0-9\"\\(\\)/#@$*%^&?~`:'']','',regex=True)\n",
    "dataset['data'] = list(map(str.split, dataset['data']))\n",
    "dataset['data'] = dataset['data'].apply(lambda x: [item for item in x if item not in stop])\n",
    "dataset['data'] = dataset['data'].apply(lambda x: [item for item in x if item not in alphabets])\n",
    "dataset.to_csv('data2.txt')"
   ]
  },
  {
   "cell_type": "markdown",
   "metadata": {},
   "source": [
    "# Preprocessing"
   ]
  },
  {
   "cell_type": "code",
   "execution_count": 96,
   "metadata": {},
   "outputs": [],
   "source": [
    "dataset = dataset.sample(frac=1)\n",
    "dataset = np.array_split(dataset,5)"
   ]
  },
  {
   "cell_type": "code",
   "execution_count": 97,
   "metadata": {},
   "outputs": [
    {
     "name": "stdout",
     "output_type": "stream",
     "text": [
      "400 400\n"
     ]
    }
   ],
   "source": [
    "# temp=4\n",
    "frames = [dataset[0],dataset[1],dataset[2],dataset[3],dataset[4]]\n",
    "for temp in range(5):\n",
    "    frames.pop(temp)\n",
    "    train_set = pd.concat(frames)\n",
    "    test_set = dataset[temp]\n",
    "    x_train = train_set['data']\n",
    "    y_train = train_set['value']\n",
    "    x_test = test_set['data']\n",
    "    y_test = test_set['value']\n",
    "    zeroes = (y_train==0).sum(axis=0)\n",
    "    ones = (y_train==1).sum(axis=0)\n",
    "#     print(zeroes,ones)"
   ]
  },
  {
   "cell_type": "code",
   "execution_count": 98,
   "metadata": {},
   "outputs": [],
   "source": [
    "x_train1 = x_train[y_train==1]\n",
    "x_train0 = x_train[y_train==0]"
   ]
  },
  {
   "cell_type": "code",
   "execution_count": 99,
   "metadata": {},
   "outputs": [
    {
     "name": "stdout",
     "output_type": "stream",
     "text": [
      "Number of words after preprocessing are 2104\n",
      "Total number of unique words are  868\n",
      "         word  freq      prob\n",
      "0        wear     4  0.001881\n",
      "1    everyday     1  0.000470\n",
      "2       holds     3  0.001411\n",
      "3        well    26  0.012230\n",
      "4        fits     9  0.004233\n",
      "..        ...   ...       ...\n",
      "863      cost     1  0.000470\n",
      "864    superb     1  0.000470\n",
      "865   network     1  0.000470\n",
      "866  websites     1  0.000470\n",
      "867    rating     1  0.000470\n",
      "\n",
      "[868 rows x 3 columns]\n"
     ]
    }
   ],
   "source": [
    "dict1 = {}\n",
    "for data in x_train1:\n",
    "    for item in data:\n",
    "        dict1[item] = 0\n",
    "for data in x_train1:\n",
    "    for item in data:\n",
    "        dict1[item] +=1\n",
    "dict1 = pd.DataFrame(dict1.items(),columns=['word','freq'])\n",
    "unique_words1 = len(dict1.index)\n",
    "alpha = 1\n",
    "total_words1 = count\n",
    "print(\"Number of words after preprocessing are\",np.sum(dict1['freq']))\n",
    "print(\"Total number of unique words are \",unique_words1)\n",
    "temp1 = total_words1 + unique_words1\n",
    "# dict1['prob'] = (dict1['freq'] + alpha)/(temp1)\n",
    "dict1['prob'] = dict1['freq']/total_words1\n",
    "print(dict1)"
   ]
  },
  {
   "cell_type": "code",
   "execution_count": 100,
   "metadata": {},
   "outputs": [
    {
     "name": "stdout",
     "output_type": "stream",
     "text": [
      "Number of words after preprocessing are 2085\n",
      "            word  freq      prob\n",
      "0        wouldnt     1  0.000480\n",
      "1      recommend     5  0.002398\n",
      "2         buying     4  0.001918\n",
      "3        product    19  0.009113\n",
      "4           poor     9  0.004317\n",
      "..           ...   ...       ...\n",
      "986         copy     1  0.000480\n",
      "987       humans     1  0.000480\n",
      "988     received     1  0.000480\n",
      "989  counterfeit     1  0.000480\n",
      "990   acceptable     1  0.000480\n",
      "\n",
      "[991 rows x 3 columns]\n"
     ]
    }
   ],
   "source": [
    "dict = {}\n",
    "count = 0\n",
    "for data in x_train0:\n",
    "    for item in data:\n",
    "        dict[item] = 0\n",
    "        count +=1\n",
    "for data in x_train0:\n",
    "    for item in data:\n",
    "            dict[item] +=1\n",
    "print(\"Number of words after preprocessing are\",count)\n",
    "dict0 = pd.DataFrame(dict.items(),columns=['word','freq'])\n",
    "unique_words0 = len(dict0.index)\n",
    "alpha = 1\n",
    "total_words0 = count\n",
    "# print(\"Total number of unique words are \",unique_words)\n",
    "temp0 = total_words0 + unique_words0\n",
    "# dict0['prob'] = (dict0['freq'] + alpha)/(temp0)\n",
    "dict0['prob'] = dict0['freq']/total_words0\n",
    "print(dict0)"
   ]
  },
  {
   "cell_type": "code",
   "execution_count": 101,
   "metadata": {},
   "outputs": [
    {
     "name": "stderr",
     "output_type": "stream",
     "text": [
      "/home/badri/anaconda3/lib/python3.7/site-packages/ipykernel_launcher.py:10: SettingWithCopyWarning: \n",
      "A value is trying to be set on a copy of a slice from a DataFrame\n",
      "\n",
      "See the caveats in the documentation: https://pandas.pydata.org/pandas-docs/stable/user_guide/indexing.html#returning-a-view-versus-a-copy\n",
      "  # Remove the CWD from sys.path while we load stuff.\n",
      "/home/badri/anaconda3/lib/python3.7/site-packages/ipykernel_launcher.py:12: SettingWithCopyWarning: \n",
      "A value is trying to be set on a copy of a slice from a DataFrame\n",
      "\n",
      "See the caveats in the documentation: https://pandas.pydata.org/pandas-docs/stable/user_guide/indexing.html#returning-a-view-versus-a-copy\n",
      "  if sys.path[0] == '':\n",
      "/home/badri/anaconda3/lib/python3.7/site-packages/ipykernel_launcher.py:20: SettingWithCopyWarning: \n",
      "A value is trying to be set on a copy of a slice from a DataFrame\n",
      "\n",
      "See the caveats in the documentation: https://pandas.pydata.org/pandas-docs/stable/user_guide/indexing.html#returning-a-view-versus-a-copy\n",
      "/home/badri/anaconda3/lib/python3.7/site-packages/ipykernel_launcher.py:22: SettingWithCopyWarning: \n",
      "A value is trying to be set on a copy of a slice from a DataFrame\n",
      "\n",
      "See the caveats in the documentation: https://pandas.pydata.org/pandas-docs/stable/user_guide/indexing.html#returning-a-view-versus-a-copy\n"
     ]
    },
    {
     "name": "stdout",
     "output_type": "stream",
     "text": [
      "                                                  data     prob1     prob0\n",
      "0    [take, picture, battery, drops, bar, starts, b...  0.012625  0.013770\n",
      "1                                        [good, phone]  0.057385  0.032134\n",
      "2                           [razr, battery, good, buy]  0.034807  0.018225\n",
      "3                              [rip, charge, shipping]  0.003627  0.004487\n",
      "4    [got, car, charger, even, week, charger, broke...  0.019346  0.018876\n",
      "..                                                 ...       ...       ...\n",
      "195     [voice, recognition, thru, handset, excellent]  0.011820  0.002894\n",
      "196                             [got, small, adorable]  0.005038  0.003203\n",
      "197  [authentic, leather, nice, shine, comfort, rec...  0.025127  0.008340\n",
      "198                               [dont, waste, money]  0.003156  0.023501\n",
      "199                       [mobile, phone, tools, must]  0.032653  0.028468\n",
      "\n",
      "[200 rows x 3 columns]\n"
     ]
    }
   ],
   "source": [
    "x_test = pd.DataFrame(x_test,columns=['data','prob1','prob0'])\n",
    "x_test['prob1'] = 0.0\n",
    "x_test['prob0'] = 0.0\n",
    "x_test = x_test.reset_index(inplace=False,drop=True)\n",
    "i=0\n",
    "for data in x_test['data']:\n",
    "    for item in data:\n",
    "        if item in dict1.values:\n",
    "            x_test['prob1'][i] += dict1.loc[dict1['word']==item,'prob']\n",
    "        else:\n",
    "            x_test['prob1'][i] += 1/(temp1)\n",
    "    i += 1 \n",
    "i=0\n",
    "for data in x_test['data']:\n",
    "    for item in data:\n",
    "        if item in dict0.values:\n",
    "#             print(item)\n",
    "            x_test['prob0'][i] += dict0.loc[dict0['word']==item,'prob']\n",
    "        else:\n",
    "            x_test['prob0'][i] += 1/(temp0)\n",
    "    i += 1\n",
    "print(x_test)   \n",
    "            \n",
    "            "
   ]
  },
  {
   "cell_type": "code",
   "execution_count": 102,
   "metadata": {},
   "outputs": [],
   "source": [
    "ans = x_test['prob1']>x_test['prob0']\n",
    "ans = ans.astype(int)\n",
    "ans = np.array(ans)\n",
    "y_test = np.array(y_test)"
   ]
  },
  {
   "cell_type": "code",
   "execution_count": 103,
   "metadata": {},
   "outputs": [
    {
     "name": "stdout",
     "output_type": "stream",
     "text": [
      "[0 1 1 0 1 0 1 1 1 1 0 1 1 1 1 1 0 0 0 1 1 1 0 1 1 1 1 0 0 1 1 1 1 1 0 0 1\n",
      " 0 1 0 0 1 0 0 1 1 0 1 1 1 1 0 1 0 1 0 0 1 0 0 1 1 0 0 1 1 0 0 1 1 0 0 1 1\n",
      " 0 0 1 1 1 1 1 1 1 0 1 1 0 0 0 1 1 1 0 1 0 1 1 0 1 1 1 1 1 1 1 1 1 0 1 1 0\n",
      " 0 0 1 1 0 1 1 0 1 1 1 1 1 0 1 0 1 1 1 0 0 1 0 1 1 0 1 1 0 0 0 1 1 1 0 1 0\n",
      " 1 1 0 0 1 1 1 0 1 1 1 0 1 1 1 1 1 1 0 1 0 0 0 1 0 1 1 1 1 0 1 1 1 1 1 1 1\n",
      " 1 1 0 1 1 1 1 0 1 1 1 1 1 0 1]\n",
      "[0 1 1 0 0 1 1 0 1 1 0 1 0 1 1 1 0 0 1 0 1 1 0 0 0 0 1 0 0 0 0 0 1 1 0 0 1\n",
      " 0 1 1 0 0 0 1 1 0 0 1 1 1 1 0 1 0 1 0 0 1 1 0 0 1 0 0 1 1 0 1 1 1 0 1 0 1\n",
      " 0 0 1 1 1 1 1 1 1 1 1 1 0 0 0 0 0 1 1 1 0 0 1 0 1 1 1 0 0 1 0 1 1 0 0 0 0\n",
      " 1 0 1 1 0 1 0 0 0 1 1 1 0 0 0 0 1 0 1 0 0 0 0 1 0 0 1 1 0 0 0 1 1 1 0 1 0\n",
      " 0 1 0 0 1 0 1 0 1 1 1 0 1 1 0 0 1 0 0 1 0 1 1 1 0 0 0 0 0 0 1 0 1 1 1 1 0\n",
      " 1 0 0 1 1 1 0 1 0 0 1 1 1 0 1]\n"
     ]
    }
   ],
   "source": [
    "print(ans)\n",
    "print(y_test)"
   ]
  },
  {
   "cell_type": "code",
   "execution_count": 104,
   "metadata": {},
   "outputs": [
    {
     "name": "stdout",
     "output_type": "stream",
     "text": [
      "143\n"
     ]
    }
   ],
   "source": [
    "print(np.sum(ans==y_test))"
   ]
  },
  {
   "cell_type": "code",
   "execution_count": 105,
   "metadata": {},
   "outputs": [
    {
     "name": "stdout",
     "output_type": "stream",
     "text": [
      "200\n"
     ]
    }
   ],
   "source": [
    "print(y_test.size)"
   ]
  },
  {
   "cell_type": "code",
   "execution_count": 106,
   "metadata": {},
   "outputs": [
    {
     "name": "stdout",
     "output_type": "stream",
     "text": [
      "143\n",
      "87 56 44 13\n",
      "0.6641221374045801 0.87 0.7532467532467532\n",
      "0.8115942028985508 0.56 0.6627218934911243\n"
     ]
    }
   ],
   "source": [
    "y_pred = ans\n",
    "y_test = y_test\n",
    "print((y_pred==y_test).sum())\n",
    "true_positive = np.sum(np.logical_and((y_pred==y_test),(y_pred==1)))\n",
    "true_negative = np.sum(np.logical_and((y_pred==y_test),(y_pred==0)))\n",
    "false_positive = np.sum(np.logical_and((y_pred!=y_test),(y_pred==1)))\n",
    "false_negative = np.sum(np.logical_and((y_pred!=y_test),(y_pred==0)))\n",
    "print(true_positive,true_negative,false_positive,false_negative)\n",
    "precision_1 = true_positive/(true_positive+false_positive)\n",
    "precision_0 = true_negative/(true_negative+false_negative)\n",
    "recall_1 = true_positive/(true_positive+false_negative)\n",
    "recall_0 = true_negative/(true_negative+false_positive)\n",
    "f1_score_1 = 2*(precision_1*recall_1)/(precision_1+recall_1)\n",
    "f1_score_0 = 2*(precision_0*recall_0)/(precision_0+recall_0)\n",
    "print(precision_1,recall_1,f1_score_1)\n",
    "print(precision_0,recall_0,f1_score_0)\n"
   ]
  },
  {
   "cell_type": "markdown",
   "metadata": {},
   "source": [
    "## "
   ]
  },
  {
   "cell_type": "code",
   "execution_count": null,
   "metadata": {},
   "outputs": [],
   "source": []
  }
 ],
 "metadata": {
  "kernelspec": {
   "display_name": "Python 3",
   "language": "python",
   "name": "python3"
  },
  "language_info": {
   "codemirror_mode": {
    "name": "ipython",
    "version": 3
   },
   "file_extension": ".py",
   "mimetype": "text/x-python",
   "name": "python",
   "nbconvert_exporter": "python",
   "pygments_lexer": "ipython3",
   "version": "3.7.6"
  }
 },
 "nbformat": 4,
 "nbformat_minor": 4
}
