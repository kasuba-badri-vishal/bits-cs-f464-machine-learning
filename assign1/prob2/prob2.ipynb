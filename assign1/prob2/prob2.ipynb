{
 "cells": [
  {
   "cell_type": "code",
   "execution_count": 437,
   "metadata": {},
   "outputs": [],
   "source": [
    "import pandas as pd\n",
    "import numpy as np\n",
    "import re"
   ]
  },
  {
   "cell_type": "code",
   "execution_count": 438,
   "metadata": {},
   "outputs": [],
   "source": [
    "dataset = pd.io.parsers.read_csv('a1_d3.txt', sep='\\t',names=['data','value'])\n",
    "zeroes = (dataset['value']==0).sum(axis=0)\n",
    "ones = (dataset['value']==1).sum(axis=0)"
   ]
  },
  {
   "cell_type": "markdown",
   "metadata": {},
   "source": [
    "# Preprocessing"
   ]
  },
  {
   "cell_type": "code",
   "execution_count": 439,
   "metadata": {},
   "outputs": [],
   "source": [
    "stop = [\"i\", \"me\", \"my\", \"myself\", \"we\", \"our\", \"ours\", \"ourselves\", \"you\", \"your\", \"yours\", \"yourself\", \"yourselves\", \"he\", \"him\", \"his\", \"himself\", \"she\", \"her\", \"hers\", \"herself\", \"it\", \"its\", \"itself\", \"they\", \"them\", \"their\", \"theirs\", \"themselves\", \"what\", \"which\", \"who\", \"whom\", \"this\", \"that\", \"these\", \"those\", \"am\", \"is\", \"are\", \"was\", \"were\", \"be\", \"been\", \"being\", \"have\", \"has\", \"had\", \"having\", \"do\", \"does\", \"did\", \"doing\", \"a\", \"an\", \"the\", \"and\", \"but\", \"if\", \"or\", \"because\", \"as\", \"until\", \"while\", \"of\", \"at\", \"by\", \"for\", \"with\", \"about\", \"against\", \"between\", \"into\", \"through\", \"during\", \"before\", \"after\", \"above\", \"below\", \"to\", \"from\", \"up\", \"down\", \"in\", \"out\", \"on\", \"off\", \"over\", \"under\", \"again\", \"further\", \"then\", \"once\", \"here\", \"there\", \"when\", \"where\", \"why\", \"how\", \"all\", \"any\", \"both\", \"each\", \"few\", \"more\", \"most\", \"other\", \"some\", \"such\", \"no\", \"nor\", \"not\", \"only\", \"own\", \"same\", \"so\", \"than\", \"too\", \"very\", \"s\", \"t\", \"can\", \"will\", \"just\", \"don\", \"should\", \"now\"]\n",
    "dataset['data'] = dataset['data'].str.lower()\n",
    "dataset['data'] = dataset['data'].str.replace(r'[-,\\.&!\\+\\';0-9\"\\(\\)#@$%^&?~`:'']+','',regex=True)\n",
    "dataset['data'] = list(map(str.split, dataset['data']))\n",
    "dataset['data'] = dataset['data'].apply(lambda x: [item for item in x if item not in stop])\n",
    "# values = dataset.data.str.split(expand=True).stack()#value_counts()"
   ]
  },
  {
   "cell_type": "code",
   "execution_count": 440,
   "metadata": {},
   "outputs": [
    {
     "name": "stdout",
     "output_type": "stream",
     "text": [
      "406 394\n"
     ]
    }
   ],
   "source": [
    "dataset = dataset.sample(frac=1)\n",
    "train_set = dataset[:int(0.8*len(dataset))]\n",
    "test_set = dataset[int(0.8*len(dataset)):]\n",
    "x_train = train_set['data']\n",
    "y_train = train_set['value']\n",
    "x_test = test_set['data']\n",
    "y_test = test_set['value']\n",
    "zeroes = (y_train==0).sum(axis=0)\n",
    "ones = (y_train==1).sum(axis=0)\n",
    "print(zeroes,ones)"
   ]
  },
  {
   "cell_type": "code",
   "execution_count": 441,
   "metadata": {},
   "outputs": [],
   "source": [
    "x_train1 = x_train[y_train==1]\n",
    "x_train0 = x_train[y_train==0]"
   ]
  },
  {
   "cell_type": "code",
   "execution_count": 442,
   "metadata": {},
   "outputs": [
    {
     "data": {
      "text/plain": [
       "586                             [battery, holding, well]\n",
       "518                          [phone, sturdy, waterproof]\n",
       "125                                       [great, audio]\n",
       "252                 [attractive, appears, good, quality]\n",
       "208                              [good, transmit, audio]\n",
       "                             ...                        \n",
       "185                                         [incredible]\n",
       "389    [company, shipped, product, promptly, works, w...\n",
       "758                    [sound, quality, excellent, well]\n",
       "423         [im, using, iriver, spinn, case, fits, fine]\n",
       "899    [pairing, two, devices, easy, barely, took, co...\n",
       "Name: data, Length: 394, dtype: object"
      ]
     },
     "execution_count": 442,
     "metadata": {},
     "output_type": "execute_result"
    }
   ],
   "source": [
    "x_train1"
   ]
  },
  {
   "cell_type": "code",
   "execution_count": 443,
   "metadata": {},
   "outputs": [
    {
     "name": "stdout",
     "output_type": "stream",
     "text": [
      "Number of words after preprocessing are 2013\n",
      "2013\n",
      "Total number of unique words are  849\n",
      "        word  freq      prob\n",
      "0    battery    13  0.004892\n",
      "1    holding     2  0.001048\n",
      "2       well    28  0.010133\n",
      "3      phone    64  0.022711\n",
      "4     sturdy     4  0.001747\n",
      "..       ...   ...       ...\n",
      "844   barely     1  0.000699\n",
      "845     took     1  0.000699\n",
      "846  started     1  0.000699\n",
      "847   making     1  0.000699\n",
      "848  feature     1  0.000699\n",
      "\n",
      "[849 rows x 3 columns]\n"
     ]
    }
   ],
   "source": [
    "dict = {}\n",
    "count = 0\n",
    "for data in x_train1:\n",
    "    for item in data:\n",
    "        dict[item] = 0\n",
    "        count +=1\n",
    "for data in x_train1:\n",
    "    for item in data:\n",
    "        dict[item] +=1\n",
    "print(\"Number of words after preprocessing are\",count)\n",
    "dict1 = pd.DataFrame(dict.items(),columns=['word','freq'])\n",
    "unique_words1 = len(dict1.index)\n",
    "alpha = 1\n",
    "total_words1 = count\n",
    "print(np.sum(dict1['freq']))\n",
    "print(\"Total number of unique words are \",unique_words1)\n",
    "temp1 = total_words1 + unique_words1\n",
    "dict1['prob'] = (dict1['freq'] + alpha)/(temp1)\n",
    "print(dict1)"
   ]
  },
  {
   "cell_type": "code",
   "execution_count": 444,
   "metadata": {},
   "outputs": [
    {
     "name": "stdout",
     "output_type": "stream",
     "text": [
      "Number of words after preprocessing are 2157\n",
      "                word  freq      prob\n",
      "0        essentially     2  0.000944\n",
      "1     communications     1  0.000629\n",
      "2               tool     1  0.000629\n",
      "3        communicate     1  0.000629\n",
      "4               came     2  0.000944\n",
      "...              ...   ...       ...\n",
      "1017        recessed     1  0.000629\n",
      "1018         bargain     1  0.000629\n",
      "1019      microsofts     1  0.000629\n",
      "1020              []     1  0.000629\n",
      "1021            snap     1  0.000629\n",
      "\n",
      "[1022 rows x 3 columns]\n"
     ]
    }
   ],
   "source": [
    "dict = {}\n",
    "count = 0\n",
    "for data in x_train0:\n",
    "    for item in data:\n",
    "        dict[item] = 0\n",
    "        count +=1\n",
    "for data in x_train0:\n",
    "    for item in data:\n",
    "            dict[item] +=1\n",
    "print(\"Number of words after preprocessing are\",count)\n",
    "dict0 = pd.DataFrame(dict.items(),columns=['word','freq'])\n",
    "unique_words0 = len(dict0.index)\n",
    "alpha = 1\n",
    "total_words0 = count\n",
    "# print(\"Total number of unique words are \",unique_words)\n",
    "temp0 = total_words0 + unique_words0\n",
    "dict0['prob'] = (dict0['freq'] + alpha)/(temp0)\n",
    "print(dict0)"
   ]
  },
  {
   "cell_type": "code",
   "execution_count": 445,
   "metadata": {},
   "outputs": [
    {
     "name": "stderr",
     "output_type": "stream",
     "text": [
      "/home/badri/.local/lib/python3.7/site-packages/ipykernel_launcher.py:10: SettingWithCopyWarning: \n",
      "A value is trying to be set on a copy of a slice from a DataFrame\n",
      "\n",
      "See the caveats in the documentation: https://pandas.pydata.org/pandas-docs/stable/user_guide/indexing.html#returning-a-view-versus-a-copy\n",
      "  # Remove the CWD from sys.path while we load stuff.\n",
      "/home/badri/.local/lib/python3.7/site-packages/ipykernel_launcher.py:12: SettingWithCopyWarning: \n",
      "A value is trying to be set on a copy of a slice from a DataFrame\n",
      "\n",
      "See the caveats in the documentation: https://pandas.pydata.org/pandas-docs/stable/user_guide/indexing.html#returning-a-view-versus-a-copy\n",
      "  if sys.path[0] == '':\n",
      "/home/badri/.local/lib/python3.7/site-packages/ipykernel_launcher.py:20: SettingWithCopyWarning: \n",
      "A value is trying to be set on a copy of a slice from a DataFrame\n",
      "\n",
      "See the caveats in the documentation: https://pandas.pydata.org/pandas-docs/stable/user_guide/indexing.html#returning-a-view-versus-a-copy\n",
      "/home/badri/.local/lib/python3.7/site-packages/ipykernel_launcher.py:22: SettingWithCopyWarning: \n",
      "A value is trying to be set on a copy of a slice from a DataFrame\n",
      "\n",
      "See the caveats in the documentation: https://pandas.pydata.org/pandas-docs/stable/user_guide/indexing.html#returning-a-view-versus-a-copy\n"
     ]
    },
    {
     "name": "stdout",
     "output_type": "stream",
     "text": [
      "                                                  data     prob1     prob0\n",
      "0                  [ive, nearly, years, worked, great]  0.033194  0.007235\n",
      "1                              [sound, quality, great]  0.039133  0.009751\n",
      "2    [speaker, low, quality, making, ring, tones, s...  0.020964  0.012583\n",
      "3    [small, sleek, impressive, looking, practical,...  0.005590  0.006291\n",
      "4                                      [poor, product]  0.010482  0.009751\n",
      "..                                                 ...       ...       ...\n",
      "195                              [dont, make, mistake]  0.002795  0.010381\n",
      "196  [research, development, division, obviously, k...  0.002096  0.002831\n",
      "197  [file, browser, offers, options, one, needshan...  0.031796  0.007864\n",
      "198                                [would, reccommend]  0.005590  0.005033\n",
      "199  [worked, well, paired, treo, w, skype, headset...  0.029001  0.015099\n",
      "\n",
      "[200 rows x 3 columns]\n"
     ]
    }
   ],
   "source": [
    "x_test = pd.DataFrame(x_test,columns=['data','prob1','prob0'])\n",
    "x_test['prob1'] = 0.0\n",
    "x_test['prob0'] = 0.0\n",
    "x_test = x_test.reset_index(inplace=False,drop=True)\n",
    "i=0\n",
    "for data in x_test['data']:\n",
    "    for item in data:\n",
    "        if item in dict1.values:\n",
    "#             print(item)\n",
    "            x_test['prob1'][i] += dict1.loc[dict1['word']==item,'prob']\n",
    "        else:\n",
    "            x_test['prob1'][i] += 1/(temp1)\n",
    "    i += 1\n",
    "# print(x_test)   \n",
    "i=0\n",
    "for data in x_test['data']:\n",
    "    for item in data:\n",
    "        if item in dict0.values:\n",
    "#             print(item)\n",
    "            x_test['prob0'][i] += dict0.loc[dict0['word']==item,'prob']\n",
    "        else:\n",
    "            x_test['prob0'][i] += 1/(temp0)\n",
    "    i += 1\n",
    "print(x_test)   \n",
    "            \n",
    "            "
   ]
  },
  {
   "cell_type": "code",
   "execution_count": 446,
   "metadata": {},
   "outputs": [],
   "source": [
    "ans = x_test['prob1']>=x_test['prob0']\n",
    "ans = ans.astype(int)\n",
    "ans = np.array(ans)\n",
    "y_test = np.array(y_test)"
   ]
  },
  {
   "cell_type": "code",
   "execution_count": 447,
   "metadata": {},
   "outputs": [
    {
     "name": "stdout",
     "output_type": "stream",
     "text": [
      "[1 1 1 0 1 1 1 1 1 0 1 1 1 1 1 1 0 1 1 1 0 1 0 0 1 0 1 1 1 1 1 1 1 1 0 0 1\n",
      " 1 1 0 1 1 0 1 1 1 0 1 1 0 0 0 1 0 1 1 1 1 1 0 0 1 1 0 0 0 0 1 1 1 0 1 1 1\n",
      " 1 0 0 1 1 0 1 1 1 1 0 1 1 1 1 1 1 1 1 0 1 1 0 1 0 0 1 1 1 1 0 1 0 0 1 0 1\n",
      " 1 0 0 1 0 1 1 1 1 1 1 1 0 1 0 1 1 1 1 1 0 1 1 0 1 0 1 1 1 0 1 1 0 1 1 0 1\n",
      " 1 0 1 0 1 1 0 1 1 1 1 1 0 1 1 1 0 1 1 1 0 0 0 1 1 0 1 1 1 1 0 1 0 1 1 1 1\n",
      " 1 1 0 1 1 1 1 1 1 1 0 0 1 1 1]\n",
      "[1 1 0 1 0 0 1 1 1 1 1 1 1 1 1 0 0 1 0 1 1 1 0 0 0 0 1 1 0 0 1 0 0 1 0 0 0\n",
      " 1 1 0 0 0 1 0 0 1 0 0 1 0 0 0 0 1 1 1 1 1 1 0 1 1 1 0 0 1 0 1 1 0 0 1 1 1\n",
      " 1 1 0 1 1 0 0 1 0 1 0 1 1 1 1 0 0 0 1 0 1 1 0 0 0 0 1 1 1 0 0 1 0 0 1 0 0\n",
      " 1 0 0 0 0 0 1 1 1 0 1 1 0 1 0 0 1 1 1 0 1 1 1 1 1 0 0 0 1 0 1 1 0 1 1 1 1\n",
      " 1 0 0 0 0 0 0 1 1 1 1 1 0 0 0 1 0 0 1 0 0 0 0 1 1 0 1 0 1 0 0 1 0 1 1 1 1\n",
      " 0 1 0 1 0 1 1 1 0 1 0 1 1 0 1]\n"
     ]
    }
   ],
   "source": [
    "print(ans)\n",
    "print(y_test)"
   ]
  },
  {
   "cell_type": "code",
   "execution_count": 448,
   "metadata": {},
   "outputs": [
    {
     "name": "stdout",
     "output_type": "stream",
     "text": [
      "142\n"
     ]
    }
   ],
   "source": [
    "print(np.sum(ans==y_test))"
   ]
  },
  {
   "cell_type": "code",
   "execution_count": 449,
   "metadata": {},
   "outputs": [
    {
     "name": "stdout",
     "output_type": "stream",
     "text": [
      "200\n"
     ]
    }
   ],
   "source": [
    "print(y_test.size)"
   ]
  },
  {
   "cell_type": "code",
   "execution_count": null,
   "metadata": {},
   "outputs": [],
   "source": []
  },
  {
   "cell_type": "code",
   "execution_count": null,
   "metadata": {},
   "outputs": [],
   "source": []
  },
  {
   "cell_type": "code",
   "execution_count": null,
   "metadata": {},
   "outputs": [],
   "source": []
  }
 ],
 "metadata": {
  "kernelspec": {
   "display_name": "Python 3.7.6 64-bit ('base': conda)",
   "language": "python",
   "name": "python37664bitbasecondabb6175eb7a0d4688892d363a49a69da0"
  },
  "language_info": {
   "codemirror_mode": {
    "name": "ipython",
    "version": 3
   },
   "file_extension": ".py",
   "mimetype": "text/x-python",
   "name": "python",
   "nbconvert_exporter": "python",
   "pygments_lexer": "ipython3",
   "version": "3.7.6"
  }
 },
 "nbformat": 4,
 "nbformat_minor": 4
}
